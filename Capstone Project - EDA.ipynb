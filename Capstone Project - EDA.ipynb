{
 "cells": [
  {
   "cell_type": "code",
   "execution_count": 1,
   "metadata": {},
   "outputs": [
    {
     "name": "stderr",
     "output_type": "stream",
     "text": [
      "/Users/oreayoisrael-bolarinwa/opt/anaconda3/lib/python3.8/site-packages/pandas/core/computation/expressions.py:20: UserWarning: Pandas requires version '2.7.3' or newer of 'numexpr' (version '2.7.1' currently installed).\n",
      "  from pandas.core.computation.check import NUMEXPR_INSTALLED\n"
     ]
    }
   ],
   "source": [
    "import pandas as pd\n",
    "import numpy as np\n",
    "import matplotlib.pyplot as plt\n",
    "import seaborn as sns\n",
    "import warnings\n",
    "from scipy import stats\n",
    "from scipy.stats import chi2_contingency\n",
    "from sklearn.feature_selection import chi2\n",
    "\n",
    "\n",
    "warnings.filterwarnings('ignore')"
   ]
  },
  {
   "cell_type": "code",
   "execution_count": 2,
   "metadata": {},
   "outputs": [
    {
     "name": "stdout",
     "output_type": "stream",
     "text": [
      "Requirement already satisfied: transformers in /Users/oreayoisrael-bolarinwa/opt/anaconda3/lib/python3.8/site-packages (4.28.1)\n",
      "Requirement already satisfied: packaging>=20.0 in /Users/oreayoisrael-bolarinwa/opt/anaconda3/lib/python3.8/site-packages (from transformers) (20.4)\n",
      "Requirement already satisfied: numpy>=1.17 in /Users/oreayoisrael-bolarinwa/opt/anaconda3/lib/python3.8/site-packages (from transformers) (1.24.4)\n",
      "Requirement already satisfied: regex!=2019.12.17 in /Users/oreayoisrael-bolarinwa/opt/anaconda3/lib/python3.8/site-packages (from transformers) (2020.10.15)\n",
      "Requirement already satisfied: tokenizers!=0.11.3,<0.14,>=0.11.1 in /Users/oreayoisrael-bolarinwa/opt/anaconda3/lib/python3.8/site-packages (from transformers) (0.13.3)\n",
      "Requirement already satisfied: requests in /Users/oreayoisrael-bolarinwa/opt/anaconda3/lib/python3.8/site-packages (from transformers) (2.28.1)\n",
      "Requirement already satisfied: tqdm>=4.27 in /Users/oreayoisrael-bolarinwa/opt/anaconda3/lib/python3.8/site-packages (from transformers) (4.50.2)\n",
      "Requirement already satisfied: filelock in /Users/oreayoisrael-bolarinwa/opt/anaconda3/lib/python3.8/site-packages (from transformers) (3.0.12)\n",
      "Requirement already satisfied: pyyaml>=5.1 in /Users/oreayoisrael-bolarinwa/opt/anaconda3/lib/python3.8/site-packages (from transformers) (5.3.1)\n",
      "Requirement already satisfied: huggingface-hub<1.0,>=0.11.0 in /Users/oreayoisrael-bolarinwa/opt/anaconda3/lib/python3.8/site-packages (from transformers) (0.13.4)\n",
      "Requirement already satisfied: pyparsing>=2.0.2 in /Users/oreayoisrael-bolarinwa/opt/anaconda3/lib/python3.8/site-packages (from packaging>=20.0->transformers) (2.4.7)\n",
      "Requirement already satisfied: six in /Users/oreayoisrael-bolarinwa/opt/anaconda3/lib/python3.8/site-packages (from packaging>=20.0->transformers) (1.15.0)\n",
      "Requirement already satisfied: urllib3<1.27,>=1.21.1 in /Users/oreayoisrael-bolarinwa/opt/anaconda3/lib/python3.8/site-packages (from requests->transformers) (1.25.11)\n",
      "Requirement already satisfied: charset-normalizer<3,>=2 in /Users/oreayoisrael-bolarinwa/opt/anaconda3/lib/python3.8/site-packages (from requests->transformers) (2.1.0)\n",
      "Requirement already satisfied: certifi>=2017.4.17 in /Users/oreayoisrael-bolarinwa/opt/anaconda3/lib/python3.8/site-packages (from requests->transformers) (2020.6.20)\n",
      "Requirement already satisfied: idna<4,>=2.5 in /Users/oreayoisrael-bolarinwa/opt/anaconda3/lib/python3.8/site-packages (from requests->transformers) (2.10)\n",
      "Requirement already satisfied: typing-extensions>=3.7.4.3 in /Users/oreayoisrael-bolarinwa/opt/anaconda3/lib/python3.8/site-packages (from huggingface-hub<1.0,>=0.11.0->transformers) (4.8.0)\n",
      "Note: you may need to restart the kernel to use updated packages.\n"
     ]
    }
   ],
   "source": [
    "pip install transformers"
   ]
  },
  {
   "cell_type": "code",
   "execution_count": 3,
   "metadata": {},
   "outputs": [
    {
     "name": "stdout",
     "output_type": "stream",
     "text": [
      "Requirement already satisfied: jinja2 in /Users/oreayoisrael-bolarinwa/opt/anaconda3/lib/python3.8/site-packages (2.11.2)\n",
      "\u001b[31mERROR: Could not find a version that satisfies the requirement 3.0.0 (from versions: none)\u001b[0m\n",
      "\u001b[31mERROR: No matching distribution found for 3.0.0\u001b[0m\n",
      "Note: you may need to restart the kernel to use updated packages.\n"
     ]
    }
   ],
   "source": [
    "pip install jinja2 3.0.0"
   ]
  },
  {
   "cell_type": "code",
   "execution_count": 4,
   "metadata": {},
   "outputs": [
    {
     "name": "stdout",
     "output_type": "stream",
     "text": [
      "Requirement already satisfied: imbalanced-learn in /Users/oreayoisrael-bolarinwa/opt/anaconda3/lib/python3.8/site-packages (0.10.1)\n",
      "Requirement already satisfied: numpy>=1.17.3 in /Users/oreayoisrael-bolarinwa/opt/anaconda3/lib/python3.8/site-packages (from imbalanced-learn) (1.24.4)\n",
      "Requirement already satisfied: scikit-learn>=1.0.2 in /Users/oreayoisrael-bolarinwa/opt/anaconda3/lib/python3.8/site-packages (from imbalanced-learn) (1.2.2)\n",
      "Requirement already satisfied: threadpoolctl>=2.0.0 in /Users/oreayoisrael-bolarinwa/opt/anaconda3/lib/python3.8/site-packages (from imbalanced-learn) (2.1.0)\n",
      "Requirement already satisfied: joblib>=1.1.1 in /Users/oreayoisrael-bolarinwa/opt/anaconda3/lib/python3.8/site-packages (from imbalanced-learn) (1.2.0)\n",
      "Requirement already satisfied: scipy>=1.3.2 in /Users/oreayoisrael-bolarinwa/opt/anaconda3/lib/python3.8/site-packages (from imbalanced-learn) (1.5.2)\n",
      "Note: you may need to restart the kernel to use updated packages.\n"
     ]
    }
   ],
   "source": [
    "pip install imbalanced-learn"
   ]
  },
  {
   "cell_type": "code",
   "execution_count": 5,
   "metadata": {},
   "outputs": [
    {
     "name": "stdout",
     "output_type": "stream",
     "text": [
      "0.10.1\n"
     ]
    }
   ],
   "source": [
    "# check version number\n",
    "import imblearn\n",
    "print(imblearn.__version__)"
   ]
  },
  {
   "cell_type": "code",
   "execution_count": 6,
   "metadata": {},
   "outputs": [],
   "source": [
    "table = \"BRFSS_2021.csv\"\n",
    "df = pd.read_csv(table)"
   ]
  },
  {
   "cell_type": "code",
   "execution_count": 7,
   "metadata": {},
   "outputs": [
    {
     "data": {
      "text/plain": [
       "(438693, 304)"
      ]
     },
     "execution_count": 7,
     "metadata": {},
     "output_type": "execute_result"
    }
   ],
   "source": [
    "df.shape"
   ]
  },
  {
   "cell_type": "code",
   "execution_count": 8,
   "metadata": {},
   "outputs": [
    {
     "data": {
      "text/html": [
       "<div>\n",
       "<style scoped>\n",
       "    .dataframe tbody tr th:only-of-type {\n",
       "        vertical-align: middle;\n",
       "    }\n",
       "\n",
       "    .dataframe tbody tr th {\n",
       "        vertical-align: top;\n",
       "    }\n",
       "\n",
       "    .dataframe thead th {\n",
       "        text-align: right;\n",
       "    }\n",
       "</style>\n",
       "<table border=\"1\" class=\"dataframe\">\n",
       "  <thead>\n",
       "    <tr style=\"text-align: right;\">\n",
       "      <th></th>\n",
       "      <th>Unnamed: 0</th>\n",
       "      <th>_STATE</th>\n",
       "      <th>FMONTH</th>\n",
       "      <th>IDATE</th>\n",
       "      <th>IMONTH</th>\n",
       "      <th>IDAY</th>\n",
       "      <th>IYEAR</th>\n",
       "      <th>DISPCODE</th>\n",
       "      <th>SEQNO</th>\n",
       "      <th>_PSU</th>\n",
       "      <th>...</th>\n",
       "      <th>_FRTRES1</th>\n",
       "      <th>_VEGRES1</th>\n",
       "      <th>_FRUTSU1</th>\n",
       "      <th>_VEGESU1</th>\n",
       "      <th>_FRTLT1A</th>\n",
       "      <th>_VEGLT1A</th>\n",
       "      <th>_FRT16A</th>\n",
       "      <th>_VEG23A</th>\n",
       "      <th>_FRUITE1</th>\n",
       "      <th>_VEGETE1</th>\n",
       "    </tr>\n",
       "  </thead>\n",
       "  <tbody>\n",
       "    <tr>\n",
       "      <th>0</th>\n",
       "      <td>0</td>\n",
       "      <td>1.0</td>\n",
       "      <td>1.0</td>\n",
       "      <td>b'01192021'</td>\n",
       "      <td>b'01'</td>\n",
       "      <td>b'19'</td>\n",
       "      <td>b'2021'</td>\n",
       "      <td>1100.0</td>\n",
       "      <td>b'2021000001'</td>\n",
       "      <td>2.021000e+09</td>\n",
       "      <td>...</td>\n",
       "      <td>1.0</td>\n",
       "      <td>1.0</td>\n",
       "      <td>100.0</td>\n",
       "      <td>214.0</td>\n",
       "      <td>1.0</td>\n",
       "      <td>1.0</td>\n",
       "      <td>1.0</td>\n",
       "      <td>1.0</td>\n",
       "      <td>5.397605e-79</td>\n",
       "      <td>5.397605e-79</td>\n",
       "    </tr>\n",
       "    <tr>\n",
       "      <th>1</th>\n",
       "      <td>1</td>\n",
       "      <td>1.0</td>\n",
       "      <td>1.0</td>\n",
       "      <td>b'01212021'</td>\n",
       "      <td>b'01'</td>\n",
       "      <td>b'21'</td>\n",
       "      <td>b'2021'</td>\n",
       "      <td>1100.0</td>\n",
       "      <td>b'2021000002'</td>\n",
       "      <td>2.021000e+09</td>\n",
       "      <td>...</td>\n",
       "      <td>1.0</td>\n",
       "      <td>1.0</td>\n",
       "      <td>100.0</td>\n",
       "      <td>128.0</td>\n",
       "      <td>1.0</td>\n",
       "      <td>1.0</td>\n",
       "      <td>1.0</td>\n",
       "      <td>1.0</td>\n",
       "      <td>5.397605e-79</td>\n",
       "      <td>5.397605e-79</td>\n",
       "    </tr>\n",
       "    <tr>\n",
       "      <th>2</th>\n",
       "      <td>2</td>\n",
       "      <td>1.0</td>\n",
       "      <td>1.0</td>\n",
       "      <td>b'01212021'</td>\n",
       "      <td>b'01'</td>\n",
       "      <td>b'21'</td>\n",
       "      <td>b'2021'</td>\n",
       "      <td>1100.0</td>\n",
       "      <td>b'2021000003'</td>\n",
       "      <td>2.021000e+09</td>\n",
       "      <td>...</td>\n",
       "      <td>1.0</td>\n",
       "      <td>1.0</td>\n",
       "      <td>100.0</td>\n",
       "      <td>71.0</td>\n",
       "      <td>1.0</td>\n",
       "      <td>2.0</td>\n",
       "      <td>1.0</td>\n",
       "      <td>1.0</td>\n",
       "      <td>5.397605e-79</td>\n",
       "      <td>5.397605e-79</td>\n",
       "    </tr>\n",
       "    <tr>\n",
       "      <th>3</th>\n",
       "      <td>3</td>\n",
       "      <td>1.0</td>\n",
       "      <td>1.0</td>\n",
       "      <td>b'01172021'</td>\n",
       "      <td>b'01'</td>\n",
       "      <td>b'17'</td>\n",
       "      <td>b'2021'</td>\n",
       "      <td>1100.0</td>\n",
       "      <td>b'2021000004'</td>\n",
       "      <td>2.021000e+09</td>\n",
       "      <td>...</td>\n",
       "      <td>1.0</td>\n",
       "      <td>1.0</td>\n",
       "      <td>114.0</td>\n",
       "      <td>165.0</td>\n",
       "      <td>1.0</td>\n",
       "      <td>1.0</td>\n",
       "      <td>1.0</td>\n",
       "      <td>1.0</td>\n",
       "      <td>5.397605e-79</td>\n",
       "      <td>5.397605e-79</td>\n",
       "    </tr>\n",
       "    <tr>\n",
       "      <th>4</th>\n",
       "      <td>4</td>\n",
       "      <td>1.0</td>\n",
       "      <td>1.0</td>\n",
       "      <td>b'01152021'</td>\n",
       "      <td>b'01'</td>\n",
       "      <td>b'15'</td>\n",
       "      <td>b'2021'</td>\n",
       "      <td>1100.0</td>\n",
       "      <td>b'2021000005'</td>\n",
       "      <td>2.021000e+09</td>\n",
       "      <td>...</td>\n",
       "      <td>1.0</td>\n",
       "      <td>1.0</td>\n",
       "      <td>100.0</td>\n",
       "      <td>258.0</td>\n",
       "      <td>1.0</td>\n",
       "      <td>1.0</td>\n",
       "      <td>1.0</td>\n",
       "      <td>1.0</td>\n",
       "      <td>5.397605e-79</td>\n",
       "      <td>5.397605e-79</td>\n",
       "    </tr>\n",
       "  </tbody>\n",
       "</table>\n",
       "<p>5 rows × 304 columns</p>\n",
       "</div>"
      ],
      "text/plain": [
       "   Unnamed: 0  _STATE  FMONTH        IDATE IMONTH   IDAY    IYEAR  DISPCODE  \\\n",
       "0           0     1.0     1.0  b'01192021'  b'01'  b'19'  b'2021'    1100.0   \n",
       "1           1     1.0     1.0  b'01212021'  b'01'  b'21'  b'2021'    1100.0   \n",
       "2           2     1.0     1.0  b'01212021'  b'01'  b'21'  b'2021'    1100.0   \n",
       "3           3     1.0     1.0  b'01172021'  b'01'  b'17'  b'2021'    1100.0   \n",
       "4           4     1.0     1.0  b'01152021'  b'01'  b'15'  b'2021'    1100.0   \n",
       "\n",
       "           SEQNO          _PSU  ...  _FRTRES1  _VEGRES1  _FRUTSU1  _VEGESU1  \\\n",
       "0  b'2021000001'  2.021000e+09  ...       1.0       1.0     100.0     214.0   \n",
       "1  b'2021000002'  2.021000e+09  ...       1.0       1.0     100.0     128.0   \n",
       "2  b'2021000003'  2.021000e+09  ...       1.0       1.0     100.0      71.0   \n",
       "3  b'2021000004'  2.021000e+09  ...       1.0       1.0     114.0     165.0   \n",
       "4  b'2021000005'  2.021000e+09  ...       1.0       1.0     100.0     258.0   \n",
       "\n",
       "   _FRTLT1A  _VEGLT1A  _FRT16A  _VEG23A      _FRUITE1      _VEGETE1  \n",
       "0       1.0       1.0      1.0      1.0  5.397605e-79  5.397605e-79  \n",
       "1       1.0       1.0      1.0      1.0  5.397605e-79  5.397605e-79  \n",
       "2       1.0       2.0      1.0      1.0  5.397605e-79  5.397605e-79  \n",
       "3       1.0       1.0      1.0      1.0  5.397605e-79  5.397605e-79  \n",
       "4       1.0       1.0      1.0      1.0  5.397605e-79  5.397605e-79  \n",
       "\n",
       "[5 rows x 304 columns]"
      ]
     },
     "execution_count": 8,
     "metadata": {},
     "output_type": "execute_result"
    }
   ],
   "source": [
    "df.head()"
   ]
  },
  {
   "cell_type": "code",
   "execution_count": 9,
   "metadata": {},
   "outputs": [],
   "source": [
    "df = df.drop(['Unnamed: 0'], axis = 1)"
   ]
  },
  {
   "cell_type": "code",
   "execution_count": 10,
   "metadata": {},
   "outputs": [
    {
     "data": {
      "text/plain": [
       "(438693, 303)"
      ]
     },
     "execution_count": 10,
     "metadata": {},
     "output_type": "execute_result"
    }
   ],
   "source": [
    "df.shape"
   ]
  },
  {
   "cell_type": "code",
   "execution_count": 11,
   "metadata": {},
   "outputs": [
    {
     "data": {
      "text/html": [
       "<div>\n",
       "<style scoped>\n",
       "    .dataframe tbody tr th:only-of-type {\n",
       "        vertical-align: middle;\n",
       "    }\n",
       "\n",
       "    .dataframe tbody tr th {\n",
       "        vertical-align: top;\n",
       "    }\n",
       "\n",
       "    .dataframe thead th {\n",
       "        text-align: right;\n",
       "    }\n",
       "</style>\n",
       "<table border=\"1\" class=\"dataframe\">\n",
       "  <thead>\n",
       "    <tr style=\"text-align: right;\">\n",
       "      <th></th>\n",
       "      <th>_STATE</th>\n",
       "      <th>FMONTH</th>\n",
       "      <th>IDATE</th>\n",
       "      <th>IMONTH</th>\n",
       "      <th>IDAY</th>\n",
       "      <th>IYEAR</th>\n",
       "      <th>DISPCODE</th>\n",
       "      <th>SEQNO</th>\n",
       "      <th>_PSU</th>\n",
       "      <th>CTELENM1</th>\n",
       "      <th>...</th>\n",
       "      <th>_FRTRES1</th>\n",
       "      <th>_VEGRES1</th>\n",
       "      <th>_FRUTSU1</th>\n",
       "      <th>_VEGESU1</th>\n",
       "      <th>_FRTLT1A</th>\n",
       "      <th>_VEGLT1A</th>\n",
       "      <th>_FRT16A</th>\n",
       "      <th>_VEG23A</th>\n",
       "      <th>_FRUITE1</th>\n",
       "      <th>_VEGETE1</th>\n",
       "    </tr>\n",
       "  </thead>\n",
       "  <tbody>\n",
       "    <tr>\n",
       "      <th>0</th>\n",
       "      <td>1.0</td>\n",
       "      <td>1.0</td>\n",
       "      <td>b'01192021'</td>\n",
       "      <td>b'01'</td>\n",
       "      <td>b'19'</td>\n",
       "      <td>b'2021'</td>\n",
       "      <td>1100.0</td>\n",
       "      <td>b'2021000001'</td>\n",
       "      <td>2.021000e+09</td>\n",
       "      <td>1.0</td>\n",
       "      <td>...</td>\n",
       "      <td>1.0</td>\n",
       "      <td>1.0</td>\n",
       "      <td>100.0</td>\n",
       "      <td>214.0</td>\n",
       "      <td>1.0</td>\n",
       "      <td>1.0</td>\n",
       "      <td>1.0</td>\n",
       "      <td>1.0</td>\n",
       "      <td>5.397605e-79</td>\n",
       "      <td>5.397605e-79</td>\n",
       "    </tr>\n",
       "    <tr>\n",
       "      <th>1</th>\n",
       "      <td>1.0</td>\n",
       "      <td>1.0</td>\n",
       "      <td>b'01212021'</td>\n",
       "      <td>b'01'</td>\n",
       "      <td>b'21'</td>\n",
       "      <td>b'2021'</td>\n",
       "      <td>1100.0</td>\n",
       "      <td>b'2021000002'</td>\n",
       "      <td>2.021000e+09</td>\n",
       "      <td>1.0</td>\n",
       "      <td>...</td>\n",
       "      <td>1.0</td>\n",
       "      <td>1.0</td>\n",
       "      <td>100.0</td>\n",
       "      <td>128.0</td>\n",
       "      <td>1.0</td>\n",
       "      <td>1.0</td>\n",
       "      <td>1.0</td>\n",
       "      <td>1.0</td>\n",
       "      <td>5.397605e-79</td>\n",
       "      <td>5.397605e-79</td>\n",
       "    </tr>\n",
       "    <tr>\n",
       "      <th>2</th>\n",
       "      <td>1.0</td>\n",
       "      <td>1.0</td>\n",
       "      <td>b'01212021'</td>\n",
       "      <td>b'01'</td>\n",
       "      <td>b'21'</td>\n",
       "      <td>b'2021'</td>\n",
       "      <td>1100.0</td>\n",
       "      <td>b'2021000003'</td>\n",
       "      <td>2.021000e+09</td>\n",
       "      <td>1.0</td>\n",
       "      <td>...</td>\n",
       "      <td>1.0</td>\n",
       "      <td>1.0</td>\n",
       "      <td>100.0</td>\n",
       "      <td>71.0</td>\n",
       "      <td>1.0</td>\n",
       "      <td>2.0</td>\n",
       "      <td>1.0</td>\n",
       "      <td>1.0</td>\n",
       "      <td>5.397605e-79</td>\n",
       "      <td>5.397605e-79</td>\n",
       "    </tr>\n",
       "    <tr>\n",
       "      <th>3</th>\n",
       "      <td>1.0</td>\n",
       "      <td>1.0</td>\n",
       "      <td>b'01172021'</td>\n",
       "      <td>b'01'</td>\n",
       "      <td>b'17'</td>\n",
       "      <td>b'2021'</td>\n",
       "      <td>1100.0</td>\n",
       "      <td>b'2021000004'</td>\n",
       "      <td>2.021000e+09</td>\n",
       "      <td>1.0</td>\n",
       "      <td>...</td>\n",
       "      <td>1.0</td>\n",
       "      <td>1.0</td>\n",
       "      <td>114.0</td>\n",
       "      <td>165.0</td>\n",
       "      <td>1.0</td>\n",
       "      <td>1.0</td>\n",
       "      <td>1.0</td>\n",
       "      <td>1.0</td>\n",
       "      <td>5.397605e-79</td>\n",
       "      <td>5.397605e-79</td>\n",
       "    </tr>\n",
       "    <tr>\n",
       "      <th>4</th>\n",
       "      <td>1.0</td>\n",
       "      <td>1.0</td>\n",
       "      <td>b'01152021'</td>\n",
       "      <td>b'01'</td>\n",
       "      <td>b'15'</td>\n",
       "      <td>b'2021'</td>\n",
       "      <td>1100.0</td>\n",
       "      <td>b'2021000005'</td>\n",
       "      <td>2.021000e+09</td>\n",
       "      <td>1.0</td>\n",
       "      <td>...</td>\n",
       "      <td>1.0</td>\n",
       "      <td>1.0</td>\n",
       "      <td>100.0</td>\n",
       "      <td>258.0</td>\n",
       "      <td>1.0</td>\n",
       "      <td>1.0</td>\n",
       "      <td>1.0</td>\n",
       "      <td>1.0</td>\n",
       "      <td>5.397605e-79</td>\n",
       "      <td>5.397605e-79</td>\n",
       "    </tr>\n",
       "  </tbody>\n",
       "</table>\n",
       "<p>5 rows × 303 columns</p>\n",
       "</div>"
      ],
      "text/plain": [
       "   _STATE  FMONTH        IDATE IMONTH   IDAY    IYEAR  DISPCODE  \\\n",
       "0     1.0     1.0  b'01192021'  b'01'  b'19'  b'2021'    1100.0   \n",
       "1     1.0     1.0  b'01212021'  b'01'  b'21'  b'2021'    1100.0   \n",
       "2     1.0     1.0  b'01212021'  b'01'  b'21'  b'2021'    1100.0   \n",
       "3     1.0     1.0  b'01172021'  b'01'  b'17'  b'2021'    1100.0   \n",
       "4     1.0     1.0  b'01152021'  b'01'  b'15'  b'2021'    1100.0   \n",
       "\n",
       "           SEQNO          _PSU  CTELENM1  ...  _FRTRES1  _VEGRES1  _FRUTSU1  \\\n",
       "0  b'2021000001'  2.021000e+09       1.0  ...       1.0       1.0     100.0   \n",
       "1  b'2021000002'  2.021000e+09       1.0  ...       1.0       1.0     100.0   \n",
       "2  b'2021000003'  2.021000e+09       1.0  ...       1.0       1.0     100.0   \n",
       "3  b'2021000004'  2.021000e+09       1.0  ...       1.0       1.0     114.0   \n",
       "4  b'2021000005'  2.021000e+09       1.0  ...       1.0       1.0     100.0   \n",
       "\n",
       "   _VEGESU1  _FRTLT1A  _VEGLT1A  _FRT16A  _VEG23A      _FRUITE1      _VEGETE1  \n",
       "0     214.0       1.0       1.0      1.0      1.0  5.397605e-79  5.397605e-79  \n",
       "1     128.0       1.0       1.0      1.0      1.0  5.397605e-79  5.397605e-79  \n",
       "2      71.0       1.0       2.0      1.0      1.0  5.397605e-79  5.397605e-79  \n",
       "3     165.0       1.0       1.0      1.0      1.0  5.397605e-79  5.397605e-79  \n",
       "4     258.0       1.0       1.0      1.0      1.0  5.397605e-79  5.397605e-79  \n",
       "\n",
       "[5 rows x 303 columns]"
      ]
     },
     "execution_count": 11,
     "metadata": {},
     "output_type": "execute_result"
    }
   ],
   "source": [
    "df.head()"
   ]
  },
  {
   "cell_type": "code",
   "execution_count": 12,
   "metadata": {},
   "outputs": [
    {
     "data": {
      "text/plain": [
       "array([ 0.,  1., nan])"
      ]
     },
     "execution_count": 12,
     "metadata": {},
     "output_type": "execute_result"
    }
   ],
   "source": [
    "# DIABETE4\n",
    "# going to make this ordinal. 0 is for no diabetes or only during pregnancy, 1 is for pre-diabetes or borderline diabetes, 2 is for yes diabetes\n",
    "# Remove all 7 (dont knows)\n",
    "# Remove all 9 (refused)\n",
    "df['DIABETE4'] = df['DIABETE4'].replace({3:0, 4:1})\n",
    "df = df[df.DIABETE4 != 2]\n",
    "df = df[df.DIABETE4 != 7]\n",
    "df = df[df.DIABETE4 != 9]\n",
    "df.DIABETE4.unique()"
   ]
  },
  {
   "cell_type": "code",
   "execution_count": 13,
   "metadata": {},
   "outputs": [
    {
     "data": {
      "text/plain": [
       "array([ 0.,  1., nan])"
      ]
     },
     "execution_count": 13,
     "metadata": {},
     "output_type": "execute_result"
    }
   ],
   "source": [
    "# ADDEPEV3\n",
    "# Remove all 7 (dont knows)\n",
    "# Remove all 9 (refused)\n",
    "\n",
    "df['ADDEPEV3'] = df['ADDEPEV3'].replace({2:0})\n",
    "df = df[df.ADDEPEV3 != 7]\n",
    "df = df[df.ADDEPEV3 != 9]\n",
    "df.ADDEPEV3.unique()"
   ]
  },
  {
   "cell_type": "code",
   "execution_count": 14,
   "metadata": {},
   "outputs": [
    {
     "data": {
      "text/plain": [
       "array([ 7.,  8.,  2.,  5.,  1.,  6.,  4., nan,  3.])"
      ]
     },
     "execution_count": 14,
     "metadata": {},
     "output_type": "execute_result"
    }
   ],
   "source": [
    "# EMPLOY1\n",
    "\n",
    "df = df[df.EMPLOY1 != 9]\n",
    "df.EMPLOY1.unique()"
   ]
  },
  {
   "cell_type": "code",
   "execution_count": 15,
   "metadata": {},
   "outputs": [
    {
     "data": {
      "text/plain": [
       "array([0., 1.])"
      ]
     },
     "execution_count": 15,
     "metadata": {},
     "output_type": "execute_result"
    }
   ],
   "source": [
    "#_RFHYPE6\n",
    "#Change 1 to 0 so it represetnts No high blood pressure and 2 to 1 so it represents high blood pressure\n",
    "df['_RFHYPE6'] = df['_RFHYPE6'].replace({1:0, 2:1})\n",
    "df = df[df._RFHYPE6 != 9]\n",
    "df._RFHYPE6.unique()"
   ]
  },
  {
   "cell_type": "code",
   "execution_count": 16,
   "metadata": {},
   "outputs": [
    {
     "data": {
      "text/plain": [
       "array([ 1.,  0., nan])"
      ]
     },
     "execution_count": 16,
     "metadata": {},
     "output_type": "execute_result"
    }
   ],
   "source": [
    "#TOLDHI3\n",
    "# Change 2 to 0 because it is No\n",
    "# Remove all 7 (dont knows)\n",
    "# Remove all 9 (refused)\n",
    "df['TOLDHI3'] = df['TOLDHI3'].replace({2:0})\n",
    "df = df[df.TOLDHI3 != 7]\n",
    "df = df[df.TOLDHI3 != 9]\n",
    "df.TOLDHI3.unique()"
   ]
  },
  {
   "cell_type": "code",
   "execution_count": 17,
   "metadata": {},
   "outputs": [
    {
     "data": {
      "text/plain": [
       "array([1., 0.])"
      ]
     },
     "execution_count": 17,
     "metadata": {},
     "output_type": "execute_result"
    }
   ],
   "source": [
    "#CHOLCHK3 - Checked Cholestrol Within Last 5 Years? 1 - Yes, 2 - No\n",
    "# Change 3 to 0 and 2 to 0 for Not checked cholesterol in past 5 years\n",
    "# Remove 9\n",
    "df['CHOLCHK3'] = df['CHOLCHK3'].replace({1:0, 2:1, 3:1, 4:1, 5:1, 6:1, 7:0, 8:0})\n",
    "df = df[df.CHOLCHK3 != 9]\n",
    "df.CHOLCHK3.unique()"
   ]
  },
  {
   "cell_type": "code",
   "execution_count": 18,
   "metadata": {},
   "outputs": [
    {
     "data": {
      "text/plain": [
       "array([15., nan, 28., 33., 29., 24., 46., 23., 40., 27., 35., 18., 30.,\n",
       "       25., 36., 22., 21., 44., 38., 31., 45., 26., 37., 14., 32., 20.,\n",
       "       19., 34., 41., 43., 39., 16., 42., 50., 51., 17., 52., 47., 49.,\n",
       "       56., 57., 48., 58., 61., 53., 63., 64., 54., 55., 68., 62., 13.,\n",
       "       59., 89., 66., 77., 60., 87., 69., 72., 75., 67., 79., 71., 65.,\n",
       "       94., 82., 86., 12., 70., 78., 74., 98., 73., 84., 76., 83., 80.,\n",
       "       99., 88., 81., 92., 85., 90., 95., 91., 97.])"
      ]
     },
     "execution_count": 18,
     "metadata": {},
     "output_type": "execute_result"
    }
   ],
   "source": [
    "#4 _BMI5 (no changes, just note that these are BMI * 100. So for example a BMI of 4018 is really 40.18)\n",
    "df['_BMI5'] = df['_BMI5'].div(100).round(0)\n",
    "df._BMI5.unique()"
   ]
  },
  {
   "cell_type": "code",
   "execution_count": 19,
   "metadata": {},
   "outputs": [
    {
     "data": {
      "text/plain": [
       "array([1., 2.])"
      ]
     },
     "execution_count": 19,
     "metadata": {},
     "output_type": "execute_result"
    }
   ],
   "source": [
    "# SMOKE100 - Whether Individual currently smokes \n",
    "# Change 2 to 0 because it is No\n",
    "# Remove all 7 (dont knows)\n",
    "# Remove all 9 (refused)\n",
    "df['_RFSMOK3'] = df['_RFSMOK3'].replace({1:0,2:1})\n",
    "df = df[df['_RFSMOK3'] != 9]\n",
    "df.SMOKE100.unique()"
   ]
  },
  {
   "cell_type": "code",
   "execution_count": 20,
   "metadata": {},
   "outputs": [
    {
     "data": {
      "text/plain": [
       "array([0., 1.])"
      ]
     },
     "execution_count": 20,
     "metadata": {},
     "output_type": "execute_result"
    }
   ],
   "source": [
    "#6 CVDSTRK3\n",
    "# Change 2 to 0 because it is No\n",
    "# Remove all 7 (dont knows)\n",
    "# Remove all 9 (refused)\n",
    "df['CVDSTRK3'] = df['CVDSTRK3'].replace({2:0})\n",
    "df = df[df.CVDSTRK3 != 7]\n",
    "df = df[df.CVDSTRK3 != 9]\n",
    "df.CVDSTRK3.unique()"
   ]
  },
  {
   "cell_type": "code",
   "execution_count": 21,
   "metadata": {},
   "outputs": [
    {
     "data": {
      "text/plain": [
       "array([ 0.,  1., nan])"
      ]
     },
     "execution_count": 21,
     "metadata": {},
     "output_type": "execute_result"
    }
   ],
   "source": [
    "#7 _MICHD\n",
    "#Change 2 to 0 because this means did not have MI or CHD\n",
    "df['_MICHD'] = df['_MICHD'].replace({2: 0})\n",
    "df._MICHD.unique()"
   ]
  },
  {
   "cell_type": "code",
   "execution_count": 22,
   "metadata": {},
   "outputs": [
    {
     "data": {
      "text/plain": [
       "array([0., 1.])"
      ]
     },
     "execution_count": 22,
     "metadata": {},
     "output_type": "execute_result"
    }
   ],
   "source": [
    "#_TOTINDA\n",
    "# 1 for physical activity\n",
    "# change 2 to 0 for no physical activity\n",
    "# Remove all 9 (don't know/refused)\n",
    "df['_TOTINDA'] = df['_TOTINDA'].replace({2:0})\n",
    "df = df[df._TOTINDA != 9]\n",
    "df._TOTINDA.unique()"
   ]
  },
  {
   "cell_type": "code",
   "execution_count": 23,
   "metadata": {},
   "outputs": [
    {
     "data": {
      "text/plain": [
       "array([1., 0.])"
      ]
     },
     "execution_count": 23,
     "metadata": {},
     "output_type": "execute_result"
    }
   ],
   "source": [
    "#_FRTLT1\n",
    "# Change 2 to 0. this means no fruit consumed per day. 1 will mean consumed 1 or more pieces of fruit per day \n",
    "# remove all dont knows and missing 9\n",
    "df['_FRTLT1A'] = df['_FRTLT1A'].replace({2:0})\n",
    "df = df[df._FRTLT1A != 9]\n",
    "df._FRTLT1A.unique()"
   ]
  },
  {
   "cell_type": "code",
   "execution_count": 24,
   "metadata": {},
   "outputs": [
    {
     "data": {
      "text/plain": [
       "array([1., 0.])"
      ]
     },
     "execution_count": 24,
     "metadata": {},
     "output_type": "execute_result"
    }
   ],
   "source": [
    "#_VEGLT1\n",
    "# Change 2 to 0. this means no vegetables consumed per day. 1 will mean consumed 1 or more pieces of vegetable per day \n",
    "# remove all dont knows and missing 9\n",
    "df['_VEGLT1A'] = df['_VEGLT1A'].replace({2:0})\n",
    "df = df[df._VEGLT1A != 9]\n",
    "df._VEGLT1A.unique()"
   ]
  },
  {
   "cell_type": "code",
   "execution_count": 25,
   "metadata": {},
   "outputs": [
    {
     "data": {
      "text/plain": [
       "array([0., 1.])"
      ]
     },
     "execution_count": 25,
     "metadata": {},
     "output_type": "execute_result"
    }
   ],
   "source": [
    "#_RFDRHV5\n",
    "# Change 1 to 0 (1 was no for heavy drinking). change all 2 to 1 (2 was yes for heavy drinking)\n",
    "# remove all dont knows and missing 9\n",
    "df['_RFDRHV7'] = df['_RFDRHV7'].replace({1:0, 2:1})\n",
    "df = df[df._RFDRHV7 != 9]\n",
    "df._RFDRHV7.unique()"
   ]
  },
  {
   "cell_type": "code",
   "execution_count": 26,
   "metadata": {},
   "outputs": [
    {
     "data": {
      "text/plain": [
       "array([1., 0.])"
      ]
     },
     "execution_count": 26,
     "metadata": {},
     "output_type": "execute_result"
    }
   ],
   "source": [
    "#12 HLTHPLN\n",
    "# 1 is yes, change 2 to 0 because it is No health care access\n",
    "# remove 7 and 9 for don't know or refused\n",
    "df['_HLTHPLN'] = df['_HLTHPLN'].replace({2:0})\n",
    "df = df[df._HLTHPLN != 7]\n",
    "df = df[df._HLTHPLN != 9]\n",
    "df._HLTHPLN.unique()"
   ]
  },
  {
   "cell_type": "code",
   "execution_count": 27,
   "metadata": {},
   "outputs": [
    {
     "data": {
      "text/plain": [
       "array([ 0.,  1., nan])"
      ]
     },
     "execution_count": 27,
     "metadata": {},
     "output_type": "execute_result"
    }
   ],
   "source": [
    "#13 MEDCOST\n",
    "# Change 2 to 0 for no, 1 is already yes\n",
    "# remove 7 for don/t know and 9 for refused\n",
    "df['MEDCOST1'] = df['MEDCOST1'].replace({2:0})\n",
    "df = df[df.MEDCOST1 != 7]\n",
    "df = df[df.MEDCOST1 != 9]\n",
    "df.MEDCOST1.unique()"
   ]
  },
  {
   "cell_type": "code",
   "execution_count": 28,
   "metadata": {},
   "outputs": [
    {
     "data": {
      "text/plain": [
       "array([ 5.,  3.,  2.,  4.,  1., nan])"
      ]
     },
     "execution_count": 28,
     "metadata": {},
     "output_type": "execute_result"
    }
   ],
   "source": [
    "#GENHLTH\n",
    "# This is an ordinal variable that I want to keep (1 is Excellent -> 5 is Poor)\n",
    "# Remove 7 and 9 for don't know and refused\n",
    "df = df[df.GENHLTH != 7]\n",
    "df = df[df.GENHLTH != 9]\n",
    "df.GENHLTH.unique()"
   ]
  },
  {
   "cell_type": "code",
   "execution_count": 29,
   "metadata": {},
   "outputs": [
    {
     "data": {
      "text/plain": [
       "array([10.,  0.,  5., 25., 14.,  2.,  3.,  7., 30., 15., 20.,  8.,  1.,\n",
       "        4., 28., 24., 21., 12.,  6., 22., 27.,  9., 18., 13., 17., 16.,\n",
       "       19., 29., 23., 26., 11.])"
      ]
     },
     "execution_count": 29,
     "metadata": {},
     "output_type": "execute_result"
    }
   ],
   "source": [
    "# MENTHLTH\n",
    "# already in days so keep that, scale will be 0-30\n",
    "# change 88 to 0 because it means none (no bad mental health days)\n",
    "# remove 77 and 99 for don't know not sure and refused\n",
    "df['MENTHLTH'] = df['MENTHLTH'].replace({88:0})\n",
    "df = df[df.MENTHLTH != 77]\n",
    "df = df[df.MENTHLTH != 99]\n",
    "df.MENTHLTH.unique()"
   ]
  },
  {
   "cell_type": "code",
   "execution_count": 30,
   "metadata": {},
   "outputs": [
    {
     "data": {
      "text/plain": [
       "array([20.,  0., 30., 25.,  1.,  4., 10.,  2.,  3., 15.,  8., 13., 14.,\n",
       "        5.,  7.,  6., 24., 29., 18., 12.,  9., 16., 17., 26., 28., 21.,\n",
       "       27., 11., 19., 23., 22., nan])"
      ]
     },
     "execution_count": 30,
     "metadata": {},
     "output_type": "execute_result"
    }
   ],
   "source": [
    "#PHYSHLTH\n",
    "# already in days so keep that, scale will be 0-30\n",
    "# change 88 to 0 because it means none (no bad mental health days)\n",
    "# remove 77 and 99 for don't know not sure and refused\n",
    "df['PHYSHLTH'] = df['PHYSHLTH'].replace({88:0})\n",
    "df = df[df.PHYSHLTH != 77]\n",
    "df = df[df.PHYSHLTH != 99]\n",
    "df.PHYSHLTH.unique()"
   ]
  },
  {
   "cell_type": "code",
   "execution_count": 31,
   "metadata": {},
   "outputs": [
    {
     "data": {
      "text/plain": [
       "array([0., 1.])"
      ]
     },
     "execution_count": 31,
     "metadata": {},
     "output_type": "execute_result"
    }
   ],
   "source": [
    "#17 DIFFWALK\n",
    "# change 2 to 0 for no. 1 is already yes\n",
    "# remove 7 and 9 for don't know not sure and refused\n",
    "df['DIFFWALK'] = df['DIFFWALK'].replace({2:0})\n",
    "df = df[df.DIFFWALK != 7]\n",
    "df = df[df.DIFFWALK != 9]\n",
    "df.DIFFWALK.unique()"
   ]
  },
  {
   "cell_type": "code",
   "execution_count": 32,
   "metadata": {},
   "outputs": [
    {
     "data": {
      "text/plain": [
       "array([0., 1.])"
      ]
     },
     "execution_count": 32,
     "metadata": {},
     "output_type": "execute_result"
    }
   ],
   "source": [
    "# SEX\n",
    "# in other words - was respondent male at birth\n",
    "# change 2 to 0 (female as 0). Male is 1\n",
    "df['SEXVAR'] = df['SEXVAR'].replace({2:0})\n",
    "df.SEXVAR.unique()"
   ]
  },
  {
   "cell_type": "code",
   "execution_count": 33,
   "metadata": {},
   "outputs": [
    {
     "data": {
      "text/plain": [
       "array([11., 10.,  9., 12., 13.,  7.,  6.,  1.,  3.,  8.,  4.,  5.,  2.])"
      ]
     },
     "execution_count": 33,
     "metadata": {},
     "output_type": "execute_result"
    }
   ],
   "source": [
    "#_AGEG5YR\n",
    "# already ordinal. 1 is 18-24 all the way up to 13 wis 80 and older. 5 year increments.\n",
    "# remove 14 because it is don't know or missing\n",
    "df = df[df._AGEG5YR != 14]\n",
    "df._AGEG5YR.unique()"
   ]
  },
  {
   "cell_type": "code",
   "execution_count": 34,
   "metadata": {},
   "outputs": [
    {
     "data": {
      "text/plain": [
       "array([4., 6., 3., 5., 2., 1.])"
      ]
     },
     "execution_count": 34,
     "metadata": {},
     "output_type": "execute_result"
    }
   ],
   "source": [
    "#20 EDUCA\n",
    "# This is already an ordinal variable with 1 being never attended school or kindergarten only up to 6 being college 4 years or more\n",
    "# Scale here is 1-6\n",
    "# Remove 9 for refused:\n",
    "df = df[df.EDUCA != 9]\n",
    "df.EDUCA.unique()"
   ]
  },
  {
   "cell_type": "code",
   "execution_count": 35,
   "metadata": {},
   "outputs": [
    {
     "data": {
      "text/plain": [
       "array([ 5.,  3.,  7.,  4.,  6.,  8.,  1.,  2.,  9., 10., 11., nan])"
      ]
     },
     "execution_count": 35,
     "metadata": {},
     "output_type": "execute_result"
    }
   ],
   "source": [
    "#21 INCOME2\n",
    "# Variable is already ordinal with 1 being less than $10,000 all the way up to 8 being $75,000 or more\n",
    "# Remove 77 and 99 for don't know and refused\n",
    "df = df[df.INCOME3 != 77]\n",
    "df = df[df.INCOME3 != 99]\n",
    "df.INCOME3.unique()"
   ]
  },
  {
   "cell_type": "code",
   "execution_count": 36,
   "metadata": {},
   "outputs": [
    {
     "data": {
      "text/plain": [
       "(276883, 303)"
      ]
     },
     "execution_count": 36,
     "metadata": {},
     "output_type": "execute_result"
    }
   ],
   "source": [
    "df.shape"
   ]
  },
  {
   "cell_type": "code",
   "execution_count": 37,
   "metadata": {},
   "outputs": [],
   "source": [
    "df = df[['DIABETE4','_RFHYPE6', 'TOLDHI3', 'CHOLCHK3', '_BMI5','_RFSMOK3', \n",
    "                                         'CVDSTRK3', '_MICHD', \n",
    "                                         '_TOTINDA', \n",
    "                                         '_FRTLT1A', '_VEGLT1A', \n",
    "                                         '_RFDRHV7', \n",
    "                                         '_HLTHPLN', 'MEDCOST1', \n",
    "                                         'GENHLTH', 'MENTHLTH', 'PHYSHLTH', 'DIFFWALK', \n",
    "                                         'SEXVAR', '_AGEG5YR', 'EDUCA', 'INCOME3',  \"_IMPRACE\", 'ADDEPEV3', 'EMPLOY1']]"
   ]
  },
  {
   "cell_type": "code",
   "execution_count": 38,
   "metadata": {},
   "outputs": [
    {
     "data": {
      "text/plain": [
       "(276883, 25)"
      ]
     },
     "execution_count": 38,
     "metadata": {},
     "output_type": "execute_result"
    }
   ],
   "source": [
    "df.shape"
   ]
  },
  {
   "cell_type": "code",
   "execution_count": 39,
   "metadata": {},
   "outputs": [
    {
     "data": {
      "text/plain": [
       "DIABETE4\n",
       "0.0    234074\n",
       "1.0     42809\n",
       "dtype: int64"
      ]
     },
     "execution_count": 39,
     "metadata": {},
     "output_type": "execute_result"
    }
   ],
   "source": [
    "df.groupby(['DIABETE4']).size()"
   ]
  },
  {
   "cell_type": "code",
   "execution_count": 40,
   "metadata": {},
   "outputs": [
    {
     "data": {
      "text/html": [
       "<div>\n",
       "<style scoped>\n",
       "    .dataframe tbody tr th:only-of-type {\n",
       "        vertical-align: middle;\n",
       "    }\n",
       "\n",
       "    .dataframe tbody tr th {\n",
       "        vertical-align: top;\n",
       "    }\n",
       "\n",
       "    .dataframe thead th {\n",
       "        text-align: right;\n",
       "    }\n",
       "</style>\n",
       "<table border=\"1\" class=\"dataframe\">\n",
       "  <thead>\n",
       "    <tr style=\"text-align: right;\">\n",
       "      <th></th>\n",
       "      <th>DIABETE4</th>\n",
       "      <th>_RFHYPE6</th>\n",
       "      <th>TOLDHI3</th>\n",
       "      <th>CHOLCHK3</th>\n",
       "      <th>_BMI5</th>\n",
       "      <th>_RFSMOK3</th>\n",
       "      <th>CVDSTRK3</th>\n",
       "      <th>_MICHD</th>\n",
       "      <th>_TOTINDA</th>\n",
       "      <th>_FRTLT1A</th>\n",
       "      <th>...</th>\n",
       "      <th>MENTHLTH</th>\n",
       "      <th>PHYSHLTH</th>\n",
       "      <th>DIFFWALK</th>\n",
       "      <th>SEXVAR</th>\n",
       "      <th>_AGEG5YR</th>\n",
       "      <th>EDUCA</th>\n",
       "      <th>INCOME3</th>\n",
       "      <th>_IMPRACE</th>\n",
       "      <th>ADDEPEV3</th>\n",
       "      <th>EMPLOY1</th>\n",
       "    </tr>\n",
       "  </thead>\n",
       "  <tbody>\n",
       "    <tr>\n",
       "      <th>0</th>\n",
       "      <td>0.0</td>\n",
       "      <td>0.0</td>\n",
       "      <td>1.0</td>\n",
       "      <td>1.0</td>\n",
       "      <td>15.0</td>\n",
       "      <td>0.0</td>\n",
       "      <td>0.0</td>\n",
       "      <td>0.0</td>\n",
       "      <td>0.0</td>\n",
       "      <td>1.0</td>\n",
       "      <td>...</td>\n",
       "      <td>10.0</td>\n",
       "      <td>20.0</td>\n",
       "      <td>0.0</td>\n",
       "      <td>0.0</td>\n",
       "      <td>11.0</td>\n",
       "      <td>4.0</td>\n",
       "      <td>5.0</td>\n",
       "      <td>1.0</td>\n",
       "      <td>0.0</td>\n",
       "      <td>7.0</td>\n",
       "    </tr>\n",
       "    <tr>\n",
       "      <th>2</th>\n",
       "      <td>1.0</td>\n",
       "      <td>1.0</td>\n",
       "      <td>0.0</td>\n",
       "      <td>1.0</td>\n",
       "      <td>28.0</td>\n",
       "      <td>0.0</td>\n",
       "      <td>0.0</td>\n",
       "      <td>1.0</td>\n",
       "      <td>0.0</td>\n",
       "      <td>1.0</td>\n",
       "      <td>...</td>\n",
       "      <td>0.0</td>\n",
       "      <td>0.0</td>\n",
       "      <td>0.0</td>\n",
       "      <td>0.0</td>\n",
       "      <td>11.0</td>\n",
       "      <td>4.0</td>\n",
       "      <td>3.0</td>\n",
       "      <td>2.0</td>\n",
       "      <td>0.0</td>\n",
       "      <td>7.0</td>\n",
       "    </tr>\n",
       "    <tr>\n",
       "      <th>3</th>\n",
       "      <td>1.0</td>\n",
       "      <td>1.0</td>\n",
       "      <td>1.0</td>\n",
       "      <td>1.0</td>\n",
       "      <td>33.0</td>\n",
       "      <td>0.0</td>\n",
       "      <td>0.0</td>\n",
       "      <td>0.0</td>\n",
       "      <td>1.0</td>\n",
       "      <td>1.0</td>\n",
       "      <td>...</td>\n",
       "      <td>10.0</td>\n",
       "      <td>0.0</td>\n",
       "      <td>0.0</td>\n",
       "      <td>0.0</td>\n",
       "      <td>9.0</td>\n",
       "      <td>4.0</td>\n",
       "      <td>7.0</td>\n",
       "      <td>1.0</td>\n",
       "      <td>0.0</td>\n",
       "      <td>7.0</td>\n",
       "    </tr>\n",
       "    <tr>\n",
       "      <th>4</th>\n",
       "      <td>1.0</td>\n",
       "      <td>0.0</td>\n",
       "      <td>1.0</td>\n",
       "      <td>1.0</td>\n",
       "      <td>29.0</td>\n",
       "      <td>0.0</td>\n",
       "      <td>1.0</td>\n",
       "      <td>1.0</td>\n",
       "      <td>1.0</td>\n",
       "      <td>1.0</td>\n",
       "      <td>...</td>\n",
       "      <td>0.0</td>\n",
       "      <td>30.0</td>\n",
       "      <td>1.0</td>\n",
       "      <td>1.0</td>\n",
       "      <td>12.0</td>\n",
       "      <td>3.0</td>\n",
       "      <td>4.0</td>\n",
       "      <td>6.0</td>\n",
       "      <td>0.0</td>\n",
       "      <td>8.0</td>\n",
       "    </tr>\n",
       "    <tr>\n",
       "      <th>5</th>\n",
       "      <td>0.0</td>\n",
       "      <td>0.0</td>\n",
       "      <td>0.0</td>\n",
       "      <td>1.0</td>\n",
       "      <td>24.0</td>\n",
       "      <td>0.0</td>\n",
       "      <td>0.0</td>\n",
       "      <td>0.0</td>\n",
       "      <td>0.0</td>\n",
       "      <td>0.0</td>\n",
       "      <td>...</td>\n",
       "      <td>0.0</td>\n",
       "      <td>0.0</td>\n",
       "      <td>1.0</td>\n",
       "      <td>1.0</td>\n",
       "      <td>13.0</td>\n",
       "      <td>5.0</td>\n",
       "      <td>6.0</td>\n",
       "      <td>1.0</td>\n",
       "      <td>0.0</td>\n",
       "      <td>7.0</td>\n",
       "    </tr>\n",
       "  </tbody>\n",
       "</table>\n",
       "<p>5 rows × 25 columns</p>\n",
       "</div>"
      ],
      "text/plain": [
       "   DIABETE4  _RFHYPE6  TOLDHI3  CHOLCHK3  _BMI5  _RFSMOK3  CVDSTRK3  _MICHD  \\\n",
       "0       0.0       0.0      1.0       1.0   15.0       0.0       0.0     0.0   \n",
       "2       1.0       1.0      0.0       1.0   28.0       0.0       0.0     1.0   \n",
       "3       1.0       1.0      1.0       1.0   33.0       0.0       0.0     0.0   \n",
       "4       1.0       0.0      1.0       1.0   29.0       0.0       1.0     1.0   \n",
       "5       0.0       0.0      0.0       1.0   24.0       0.0       0.0     0.0   \n",
       "\n",
       "   _TOTINDA  _FRTLT1A  ...  MENTHLTH  PHYSHLTH  DIFFWALK  SEXVAR  _AGEG5YR  \\\n",
       "0       0.0       1.0  ...      10.0      20.0       0.0     0.0      11.0   \n",
       "2       0.0       1.0  ...       0.0       0.0       0.0     0.0      11.0   \n",
       "3       1.0       1.0  ...      10.0       0.0       0.0     0.0       9.0   \n",
       "4       1.0       1.0  ...       0.0      30.0       1.0     1.0      12.0   \n",
       "5       0.0       0.0  ...       0.0       0.0       1.0     1.0      13.0   \n",
       "\n",
       "   EDUCA  INCOME3  _IMPRACE  ADDEPEV3  EMPLOY1  \n",
       "0    4.0      5.0       1.0       0.0      7.0  \n",
       "2    4.0      3.0       2.0       0.0      7.0  \n",
       "3    4.0      7.0       1.0       0.0      7.0  \n",
       "4    3.0      4.0       6.0       0.0      8.0  \n",
       "5    5.0      6.0       1.0       0.0      7.0  \n",
       "\n",
       "[5 rows x 25 columns]"
      ]
     },
     "execution_count": 40,
     "metadata": {},
     "output_type": "execute_result"
    }
   ],
   "source": [
    "df.head()"
   ]
  },
  {
   "cell_type": "code",
   "execution_count": 41,
   "metadata": {},
   "outputs": [],
   "source": [
    "#Rename the columns to make them more readable\n",
    "df = df.rename(columns = {'DIABETE4':'Diabetes', \n",
    "                                         '_RFHYPE6':'HighBP',  \n",
    "                                         'TOLDHI3':'HighChol', 'CHOLCHK3':'CholCheck', \n",
    "                                         '_BMI5':'BMI', \n",
    "                                         '_RFSMOK3':'Smoker', \n",
    "                                         'CVDSTRK3':'Stroke', '_MICHD':'HeartDiseaseorAttack', \n",
    "                                         '_TOTINDA':'PhysActivity', '_HLTHPLN':'HealthPlan',\n",
    "                                         '_FRTLT1A':'Fruits', '_VEGLT1A':\"Veggies\", \n",
    "                                         '_RFDRHV7':'HvyAlcoholConsump', \n",
    "                                         'HLTHPLN1':'AnyHealthcare', 'MEDCOST1':'NoDocbcCost', \n",
    "                                         'GENHLTH':'GenHlth', 'MENTHLTH':'MentHlth', 'PHYSHLTH':'PhysHlth', 'DIFFWALK':'DiffWalk', \n",
    "                                         'SEXVAR':'Sex', '_AGEG5YR':'Age', 'EDUCA':'Education', 'INCOME3':'Income', \n",
    "                          '_IMPRACE':'Race', 'ADDEPEV3':'Depression', 'EMPLOY1':'EmploymentStatus' })"
   ]
  },
  {
   "cell_type": "code",
   "execution_count": 42,
   "metadata": {},
   "outputs": [
    {
     "data": {
      "text/html": [
       "<div>\n",
       "<style scoped>\n",
       "    .dataframe tbody tr th:only-of-type {\n",
       "        vertical-align: middle;\n",
       "    }\n",
       "\n",
       "    .dataframe tbody tr th {\n",
       "        vertical-align: top;\n",
       "    }\n",
       "\n",
       "    .dataframe thead th {\n",
       "        text-align: right;\n",
       "    }\n",
       "</style>\n",
       "<table border=\"1\" class=\"dataframe\">\n",
       "  <thead>\n",
       "    <tr style=\"text-align: right;\">\n",
       "      <th></th>\n",
       "      <th>Diabetes</th>\n",
       "      <th>HighBP</th>\n",
       "      <th>HighChol</th>\n",
       "      <th>CholCheck</th>\n",
       "      <th>BMI</th>\n",
       "      <th>Smoker</th>\n",
       "      <th>Stroke</th>\n",
       "      <th>HeartDiseaseorAttack</th>\n",
       "      <th>PhysActivity</th>\n",
       "      <th>Fruits</th>\n",
       "      <th>...</th>\n",
       "      <th>MentHlth</th>\n",
       "      <th>PhysHlth</th>\n",
       "      <th>DiffWalk</th>\n",
       "      <th>Sex</th>\n",
       "      <th>Age</th>\n",
       "      <th>Education</th>\n",
       "      <th>Income</th>\n",
       "      <th>Race</th>\n",
       "      <th>Depression</th>\n",
       "      <th>EmploymentStatus</th>\n",
       "    </tr>\n",
       "  </thead>\n",
       "  <tbody>\n",
       "    <tr>\n",
       "      <th>0</th>\n",
       "      <td>0.0</td>\n",
       "      <td>0.0</td>\n",
       "      <td>1.0</td>\n",
       "      <td>1.0</td>\n",
       "      <td>15.0</td>\n",
       "      <td>0.0</td>\n",
       "      <td>0.0</td>\n",
       "      <td>0.0</td>\n",
       "      <td>0.0</td>\n",
       "      <td>1.0</td>\n",
       "      <td>...</td>\n",
       "      <td>10.0</td>\n",
       "      <td>20.0</td>\n",
       "      <td>0.0</td>\n",
       "      <td>0.0</td>\n",
       "      <td>11.0</td>\n",
       "      <td>4.0</td>\n",
       "      <td>5.0</td>\n",
       "      <td>1.0</td>\n",
       "      <td>0.0</td>\n",
       "      <td>7.0</td>\n",
       "    </tr>\n",
       "    <tr>\n",
       "      <th>2</th>\n",
       "      <td>1.0</td>\n",
       "      <td>1.0</td>\n",
       "      <td>0.0</td>\n",
       "      <td>1.0</td>\n",
       "      <td>28.0</td>\n",
       "      <td>0.0</td>\n",
       "      <td>0.0</td>\n",
       "      <td>1.0</td>\n",
       "      <td>0.0</td>\n",
       "      <td>1.0</td>\n",
       "      <td>...</td>\n",
       "      <td>0.0</td>\n",
       "      <td>0.0</td>\n",
       "      <td>0.0</td>\n",
       "      <td>0.0</td>\n",
       "      <td>11.0</td>\n",
       "      <td>4.0</td>\n",
       "      <td>3.0</td>\n",
       "      <td>2.0</td>\n",
       "      <td>0.0</td>\n",
       "      <td>7.0</td>\n",
       "    </tr>\n",
       "    <tr>\n",
       "      <th>3</th>\n",
       "      <td>1.0</td>\n",
       "      <td>1.0</td>\n",
       "      <td>1.0</td>\n",
       "      <td>1.0</td>\n",
       "      <td>33.0</td>\n",
       "      <td>0.0</td>\n",
       "      <td>0.0</td>\n",
       "      <td>0.0</td>\n",
       "      <td>1.0</td>\n",
       "      <td>1.0</td>\n",
       "      <td>...</td>\n",
       "      <td>10.0</td>\n",
       "      <td>0.0</td>\n",
       "      <td>0.0</td>\n",
       "      <td>0.0</td>\n",
       "      <td>9.0</td>\n",
       "      <td>4.0</td>\n",
       "      <td>7.0</td>\n",
       "      <td>1.0</td>\n",
       "      <td>0.0</td>\n",
       "      <td>7.0</td>\n",
       "    </tr>\n",
       "    <tr>\n",
       "      <th>4</th>\n",
       "      <td>1.0</td>\n",
       "      <td>0.0</td>\n",
       "      <td>1.0</td>\n",
       "      <td>1.0</td>\n",
       "      <td>29.0</td>\n",
       "      <td>0.0</td>\n",
       "      <td>1.0</td>\n",
       "      <td>1.0</td>\n",
       "      <td>1.0</td>\n",
       "      <td>1.0</td>\n",
       "      <td>...</td>\n",
       "      <td>0.0</td>\n",
       "      <td>30.0</td>\n",
       "      <td>1.0</td>\n",
       "      <td>1.0</td>\n",
       "      <td>12.0</td>\n",
       "      <td>3.0</td>\n",
       "      <td>4.0</td>\n",
       "      <td>6.0</td>\n",
       "      <td>0.0</td>\n",
       "      <td>8.0</td>\n",
       "    </tr>\n",
       "    <tr>\n",
       "      <th>5</th>\n",
       "      <td>0.0</td>\n",
       "      <td>0.0</td>\n",
       "      <td>0.0</td>\n",
       "      <td>1.0</td>\n",
       "      <td>24.0</td>\n",
       "      <td>0.0</td>\n",
       "      <td>0.0</td>\n",
       "      <td>0.0</td>\n",
       "      <td>0.0</td>\n",
       "      <td>0.0</td>\n",
       "      <td>...</td>\n",
       "      <td>0.0</td>\n",
       "      <td>0.0</td>\n",
       "      <td>1.0</td>\n",
       "      <td>1.0</td>\n",
       "      <td>13.0</td>\n",
       "      <td>5.0</td>\n",
       "      <td>6.0</td>\n",
       "      <td>1.0</td>\n",
       "      <td>0.0</td>\n",
       "      <td>7.0</td>\n",
       "    </tr>\n",
       "  </tbody>\n",
       "</table>\n",
       "<p>5 rows × 25 columns</p>\n",
       "</div>"
      ],
      "text/plain": [
       "   Diabetes  HighBP  HighChol  CholCheck   BMI  Smoker  Stroke  \\\n",
       "0       0.0     0.0       1.0        1.0  15.0     0.0     0.0   \n",
       "2       1.0     1.0       0.0        1.0  28.0     0.0     0.0   \n",
       "3       1.0     1.0       1.0        1.0  33.0     0.0     0.0   \n",
       "4       1.0     0.0       1.0        1.0  29.0     0.0     1.0   \n",
       "5       0.0     0.0       0.0        1.0  24.0     0.0     0.0   \n",
       "\n",
       "   HeartDiseaseorAttack  PhysActivity  Fruits  ...  MentHlth  PhysHlth  \\\n",
       "0                   0.0           0.0     1.0  ...      10.0      20.0   \n",
       "2                   1.0           0.0     1.0  ...       0.0       0.0   \n",
       "3                   0.0           1.0     1.0  ...      10.0       0.0   \n",
       "4                   1.0           1.0     1.0  ...       0.0      30.0   \n",
       "5                   0.0           0.0     0.0  ...       0.0       0.0   \n",
       "\n",
       "   DiffWalk  Sex   Age  Education  Income  Race  Depression  EmploymentStatus  \n",
       "0       0.0  0.0  11.0        4.0     5.0   1.0         0.0               7.0  \n",
       "2       0.0  0.0  11.0        4.0     3.0   2.0         0.0               7.0  \n",
       "3       0.0  0.0   9.0        4.0     7.0   1.0         0.0               7.0  \n",
       "4       1.0  1.0  12.0        3.0     4.0   6.0         0.0               8.0  \n",
       "5       1.0  1.0  13.0        5.0     6.0   1.0         0.0               7.0  \n",
       "\n",
       "[5 rows x 25 columns]"
      ]
     },
     "execution_count": 42,
     "metadata": {},
     "output_type": "execute_result"
    }
   ],
   "source": [
    "df.head()"
   ]
  },
  {
   "cell_type": "code",
   "execution_count": 43,
   "metadata": {},
   "outputs": [
    {
     "data": {
      "text/plain": [
       "(276883, 25)"
      ]
     },
     "execution_count": 43,
     "metadata": {},
     "output_type": "execute_result"
    }
   ],
   "source": [
    "df.shape"
   ]
  },
  {
   "cell_type": "code",
   "execution_count": 44,
   "metadata": {},
   "outputs": [
    {
     "data": {
      "text/plain": [
       "Sex\n",
       "0.0    145188\n",
       "1.0    131695\n",
       "dtype: int64"
      ]
     },
     "execution_count": 44,
     "metadata": {},
     "output_type": "execute_result"
    }
   ],
   "source": [
    "df.groupby(['Sex']).size()"
   ]
  },
  {
   "cell_type": "code",
   "execution_count": 45,
   "metadata": {},
   "outputs": [
    {
     "data": {
      "text/plain": [
       "(233149, 25)"
      ]
     },
     "execution_count": 45,
     "metadata": {},
     "output_type": "execute_result"
    }
   ],
   "source": [
    "df = df.dropna()\n",
    "df.shape"
   ]
  },
  {
   "cell_type": "code",
   "execution_count": 46,
   "metadata": {},
   "outputs": [
    {
     "data": {
      "text/html": [
       "<div>\n",
       "<style scoped>\n",
       "    .dataframe tbody tr th:only-of-type {\n",
       "        vertical-align: middle;\n",
       "    }\n",
       "\n",
       "    .dataframe tbody tr th {\n",
       "        vertical-align: top;\n",
       "    }\n",
       "\n",
       "    .dataframe thead th {\n",
       "        text-align: right;\n",
       "    }\n",
       "</style>\n",
       "<table border=\"1\" class=\"dataframe\">\n",
       "  <thead>\n",
       "    <tr style=\"text-align: right;\">\n",
       "      <th></th>\n",
       "      <th>count</th>\n",
       "      <th>mean</th>\n",
       "      <th>std</th>\n",
       "      <th>min</th>\n",
       "      <th>25%</th>\n",
       "      <th>50%</th>\n",
       "      <th>75%</th>\n",
       "      <th>max</th>\n",
       "    </tr>\n",
       "  </thead>\n",
       "  <tbody>\n",
       "    <tr>\n",
       "      <th>Diabetes</th>\n",
       "      <td>233149.0</td>\n",
       "      <td>0.167129</td>\n",
       "      <td>0.373092</td>\n",
       "      <td>0.0</td>\n",
       "      <td>0.0</td>\n",
       "      <td>0.0</td>\n",
       "      <td>0.0</td>\n",
       "      <td>1.0</td>\n",
       "    </tr>\n",
       "    <tr>\n",
       "      <th>HighBP</th>\n",
       "      <td>233149.0</td>\n",
       "      <td>0.419534</td>\n",
       "      <td>0.493484</td>\n",
       "      <td>0.0</td>\n",
       "      <td>0.0</td>\n",
       "      <td>0.0</td>\n",
       "      <td>1.0</td>\n",
       "      <td>1.0</td>\n",
       "    </tr>\n",
       "    <tr>\n",
       "      <th>HighChol</th>\n",
       "      <td>233149.0</td>\n",
       "      <td>0.403043</td>\n",
       "      <td>0.490510</td>\n",
       "      <td>0.0</td>\n",
       "      <td>0.0</td>\n",
       "      <td>0.0</td>\n",
       "      <td>1.0</td>\n",
       "      <td>1.0</td>\n",
       "    </tr>\n",
       "    <tr>\n",
       "      <th>CholCheck</th>\n",
       "      <td>233149.0</td>\n",
       "      <td>0.962861</td>\n",
       "      <td>0.189104</td>\n",
       "      <td>0.0</td>\n",
       "      <td>1.0</td>\n",
       "      <td>1.0</td>\n",
       "      <td>1.0</td>\n",
       "      <td>1.0</td>\n",
       "    </tr>\n",
       "    <tr>\n",
       "      <th>BMI</th>\n",
       "      <td>233149.0</td>\n",
       "      <td>28.943397</td>\n",
       "      <td>6.542591</td>\n",
       "      <td>12.0</td>\n",
       "      <td>24.0</td>\n",
       "      <td>28.0</td>\n",
       "      <td>32.0</td>\n",
       "      <td>99.0</td>\n",
       "    </tr>\n",
       "    <tr>\n",
       "      <th>Smoker</th>\n",
       "      <td>233149.0</td>\n",
       "      <td>0.122531</td>\n",
       "      <td>0.327899</td>\n",
       "      <td>0.0</td>\n",
       "      <td>0.0</td>\n",
       "      <td>0.0</td>\n",
       "      <td>0.0</td>\n",
       "      <td>1.0</td>\n",
       "    </tr>\n",
       "    <tr>\n",
       "      <th>Stroke</th>\n",
       "      <td>233149.0</td>\n",
       "      <td>0.039035</td>\n",
       "      <td>0.193679</td>\n",
       "      <td>0.0</td>\n",
       "      <td>0.0</td>\n",
       "      <td>0.0</td>\n",
       "      <td>0.0</td>\n",
       "      <td>1.0</td>\n",
       "    </tr>\n",
       "    <tr>\n",
       "      <th>HeartDiseaseorAttack</th>\n",
       "      <td>233149.0</td>\n",
       "      <td>0.086979</td>\n",
       "      <td>0.281804</td>\n",
       "      <td>0.0</td>\n",
       "      <td>0.0</td>\n",
       "      <td>0.0</td>\n",
       "      <td>0.0</td>\n",
       "      <td>1.0</td>\n",
       "    </tr>\n",
       "    <tr>\n",
       "      <th>PhysActivity</th>\n",
       "      <td>233149.0</td>\n",
       "      <td>0.779386</td>\n",
       "      <td>0.414662</td>\n",
       "      <td>0.0</td>\n",
       "      <td>1.0</td>\n",
       "      <td>1.0</td>\n",
       "      <td>1.0</td>\n",
       "      <td>1.0</td>\n",
       "    </tr>\n",
       "    <tr>\n",
       "      <th>Fruits</th>\n",
       "      <td>233149.0</td>\n",
       "      <td>0.621071</td>\n",
       "      <td>0.485122</td>\n",
       "      <td>0.0</td>\n",
       "      <td>0.0</td>\n",
       "      <td>1.0</td>\n",
       "      <td>1.0</td>\n",
       "      <td>1.0</td>\n",
       "    </tr>\n",
       "    <tr>\n",
       "      <th>Veggies</th>\n",
       "      <td>233149.0</td>\n",
       "      <td>0.827587</td>\n",
       "      <td>0.377740</td>\n",
       "      <td>0.0</td>\n",
       "      <td>1.0</td>\n",
       "      <td>1.0</td>\n",
       "      <td>1.0</td>\n",
       "      <td>1.0</td>\n",
       "    </tr>\n",
       "    <tr>\n",
       "      <th>HvyAlcoholConsump</th>\n",
       "      <td>233149.0</td>\n",
       "      <td>0.061973</td>\n",
       "      <td>0.241107</td>\n",
       "      <td>0.0</td>\n",
       "      <td>0.0</td>\n",
       "      <td>0.0</td>\n",
       "      <td>0.0</td>\n",
       "      <td>1.0</td>\n",
       "    </tr>\n",
       "    <tr>\n",
       "      <th>HealthPlan</th>\n",
       "      <td>233149.0</td>\n",
       "      <td>0.962805</td>\n",
       "      <td>0.189240</td>\n",
       "      <td>0.0</td>\n",
       "      <td>1.0</td>\n",
       "      <td>1.0</td>\n",
       "      <td>1.0</td>\n",
       "      <td>1.0</td>\n",
       "    </tr>\n",
       "    <tr>\n",
       "      <th>NoDocbcCost</th>\n",
       "      <td>233149.0</td>\n",
       "      <td>0.063097</td>\n",
       "      <td>0.243138</td>\n",
       "      <td>0.0</td>\n",
       "      <td>0.0</td>\n",
       "      <td>0.0</td>\n",
       "      <td>0.0</td>\n",
       "      <td>1.0</td>\n",
       "    </tr>\n",
       "    <tr>\n",
       "      <th>GenHlth</th>\n",
       "      <td>233149.0</td>\n",
       "      <td>2.479740</td>\n",
       "      <td>1.029185</td>\n",
       "      <td>1.0</td>\n",
       "      <td>2.0</td>\n",
       "      <td>2.0</td>\n",
       "      <td>3.0</td>\n",
       "      <td>5.0</td>\n",
       "    </tr>\n",
       "    <tr>\n",
       "      <th>MentHlth</th>\n",
       "      <td>233149.0</td>\n",
       "      <td>3.909483</td>\n",
       "      <td>7.862360</td>\n",
       "      <td>0.0</td>\n",
       "      <td>0.0</td>\n",
       "      <td>0.0</td>\n",
       "      <td>3.0</td>\n",
       "      <td>30.0</td>\n",
       "    </tr>\n",
       "    <tr>\n",
       "      <th>PhysHlth</th>\n",
       "      <td>233149.0</td>\n",
       "      <td>3.745648</td>\n",
       "      <td>8.244060</td>\n",
       "      <td>0.0</td>\n",
       "      <td>0.0</td>\n",
       "      <td>0.0</td>\n",
       "      <td>2.0</td>\n",
       "      <td>30.0</td>\n",
       "    </tr>\n",
       "    <tr>\n",
       "      <th>DiffWalk</th>\n",
       "      <td>233149.0</td>\n",
       "      <td>0.153897</td>\n",
       "      <td>0.360851</td>\n",
       "      <td>0.0</td>\n",
       "      <td>0.0</td>\n",
       "      <td>0.0</td>\n",
       "      <td>0.0</td>\n",
       "      <td>1.0</td>\n",
       "    </tr>\n",
       "    <tr>\n",
       "      <th>Sex</th>\n",
       "      <td>233149.0</td>\n",
       "      <td>0.482091</td>\n",
       "      <td>0.499680</td>\n",
       "      <td>0.0</td>\n",
       "      <td>0.0</td>\n",
       "      <td>0.0</td>\n",
       "      <td>1.0</td>\n",
       "      <td>1.0</td>\n",
       "    </tr>\n",
       "    <tr>\n",
       "      <th>Age</th>\n",
       "      <td>233149.0</td>\n",
       "      <td>7.880965</td>\n",
       "      <td>3.236252</td>\n",
       "      <td>1.0</td>\n",
       "      <td>5.0</td>\n",
       "      <td>8.0</td>\n",
       "      <td>10.0</td>\n",
       "      <td>13.0</td>\n",
       "    </tr>\n",
       "    <tr>\n",
       "      <th>Education</th>\n",
       "      <td>233149.0</td>\n",
       "      <td>5.139417</td>\n",
       "      <td>0.945613</td>\n",
       "      <td>1.0</td>\n",
       "      <td>4.0</td>\n",
       "      <td>5.0</td>\n",
       "      <td>6.0</td>\n",
       "      <td>6.0</td>\n",
       "    </tr>\n",
       "    <tr>\n",
       "      <th>Income</th>\n",
       "      <td>233149.0</td>\n",
       "      <td>6.929612</td>\n",
       "      <td>2.374026</td>\n",
       "      <td>1.0</td>\n",
       "      <td>5.0</td>\n",
       "      <td>7.0</td>\n",
       "      <td>9.0</td>\n",
       "      <td>11.0</td>\n",
       "    </tr>\n",
       "    <tr>\n",
       "      <th>Race</th>\n",
       "      <td>233149.0</td>\n",
       "      <td>1.641830</td>\n",
       "      <td>1.401579</td>\n",
       "      <td>1.0</td>\n",
       "      <td>1.0</td>\n",
       "      <td>1.0</td>\n",
       "      <td>1.0</td>\n",
       "      <td>6.0</td>\n",
       "    </tr>\n",
       "    <tr>\n",
       "      <th>Depression</th>\n",
       "      <td>233149.0</td>\n",
       "      <td>0.203758</td>\n",
       "      <td>0.402792</td>\n",
       "      <td>0.0</td>\n",
       "      <td>0.0</td>\n",
       "      <td>0.0</td>\n",
       "      <td>0.0</td>\n",
       "      <td>1.0</td>\n",
       "    </tr>\n",
       "    <tr>\n",
       "      <th>EmploymentStatus</th>\n",
       "      <td>233149.0</td>\n",
       "      <td>3.643490</td>\n",
       "      <td>2.848353</td>\n",
       "      <td>1.0</td>\n",
       "      <td>1.0</td>\n",
       "      <td>2.0</td>\n",
       "      <td>7.0</td>\n",
       "      <td>8.0</td>\n",
       "    </tr>\n",
       "  </tbody>\n",
       "</table>\n",
       "</div>"
      ],
      "text/plain": [
       "                         count       mean       std   min   25%   50%   75%  \\\n",
       "Diabetes              233149.0   0.167129  0.373092   0.0   0.0   0.0   0.0   \n",
       "HighBP                233149.0   0.419534  0.493484   0.0   0.0   0.0   1.0   \n",
       "HighChol              233149.0   0.403043  0.490510   0.0   0.0   0.0   1.0   \n",
       "CholCheck             233149.0   0.962861  0.189104   0.0   1.0   1.0   1.0   \n",
       "BMI                   233149.0  28.943397  6.542591  12.0  24.0  28.0  32.0   \n",
       "Smoker                233149.0   0.122531  0.327899   0.0   0.0   0.0   0.0   \n",
       "Stroke                233149.0   0.039035  0.193679   0.0   0.0   0.0   0.0   \n",
       "HeartDiseaseorAttack  233149.0   0.086979  0.281804   0.0   0.0   0.0   0.0   \n",
       "PhysActivity          233149.0   0.779386  0.414662   0.0   1.0   1.0   1.0   \n",
       "Fruits                233149.0   0.621071  0.485122   0.0   0.0   1.0   1.0   \n",
       "Veggies               233149.0   0.827587  0.377740   0.0   1.0   1.0   1.0   \n",
       "HvyAlcoholConsump     233149.0   0.061973  0.241107   0.0   0.0   0.0   0.0   \n",
       "HealthPlan            233149.0   0.962805  0.189240   0.0   1.0   1.0   1.0   \n",
       "NoDocbcCost           233149.0   0.063097  0.243138   0.0   0.0   0.0   0.0   \n",
       "GenHlth               233149.0   2.479740  1.029185   1.0   2.0   2.0   3.0   \n",
       "MentHlth              233149.0   3.909483  7.862360   0.0   0.0   0.0   3.0   \n",
       "PhysHlth              233149.0   3.745648  8.244060   0.0   0.0   0.0   2.0   \n",
       "DiffWalk              233149.0   0.153897  0.360851   0.0   0.0   0.0   0.0   \n",
       "Sex                   233149.0   0.482091  0.499680   0.0   0.0   0.0   1.0   \n",
       "Age                   233149.0   7.880965  3.236252   1.0   5.0   8.0  10.0   \n",
       "Education             233149.0   5.139417  0.945613   1.0   4.0   5.0   6.0   \n",
       "Income                233149.0   6.929612  2.374026   1.0   5.0   7.0   9.0   \n",
       "Race                  233149.0   1.641830  1.401579   1.0   1.0   1.0   1.0   \n",
       "Depression            233149.0   0.203758  0.402792   0.0   0.0   0.0   0.0   \n",
       "EmploymentStatus      233149.0   3.643490  2.848353   1.0   1.0   2.0   7.0   \n",
       "\n",
       "                       max  \n",
       "Diabetes               1.0  \n",
       "HighBP                 1.0  \n",
       "HighChol               1.0  \n",
       "CholCheck              1.0  \n",
       "BMI                   99.0  \n",
       "Smoker                 1.0  \n",
       "Stroke                 1.0  \n",
       "HeartDiseaseorAttack   1.0  \n",
       "PhysActivity           1.0  \n",
       "Fruits                 1.0  \n",
       "Veggies                1.0  \n",
       "HvyAlcoholConsump      1.0  \n",
       "HealthPlan             1.0  \n",
       "NoDocbcCost            1.0  \n",
       "GenHlth                5.0  \n",
       "MentHlth              30.0  \n",
       "PhysHlth              30.0  \n",
       "DiffWalk               1.0  \n",
       "Sex                    1.0  \n",
       "Age                   13.0  \n",
       "Education              6.0  \n",
       "Income                11.0  \n",
       "Race                   6.0  \n",
       "Depression             1.0  \n",
       "EmploymentStatus       8.0  "
      ]
     },
     "execution_count": 46,
     "metadata": {},
     "output_type": "execute_result"
    }
   ],
   "source": [
    "df.describe().T"
   ]
  },
  {
   "cell_type": "code",
   "execution_count": 47,
   "metadata": {},
   "outputs": [
    {
     "name": "stdout",
     "output_type": "stream",
     "text": [
      "<class 'pandas.core.frame.DataFrame'>\n",
      "Index: 233149 entries, 0 to 438692\n",
      "Data columns (total 25 columns):\n",
      " #   Column                Non-Null Count   Dtype  \n",
      "---  ------                --------------   -----  \n",
      " 0   Diabetes              233149 non-null  float64\n",
      " 1   HighBP                233149 non-null  float64\n",
      " 2   HighChol              233149 non-null  float64\n",
      " 3   CholCheck             233149 non-null  float64\n",
      " 4   BMI                   233149 non-null  float64\n",
      " 5   Smoker                233149 non-null  float64\n",
      " 6   Stroke                233149 non-null  float64\n",
      " 7   HeartDiseaseorAttack  233149 non-null  float64\n",
      " 8   PhysActivity          233149 non-null  float64\n",
      " 9   Fruits                233149 non-null  float64\n",
      " 10  Veggies               233149 non-null  float64\n",
      " 11  HvyAlcoholConsump     233149 non-null  float64\n",
      " 12  HealthPlan            233149 non-null  float64\n",
      " 13  NoDocbcCost           233149 non-null  float64\n",
      " 14  GenHlth               233149 non-null  float64\n",
      " 15  MentHlth              233149 non-null  float64\n",
      " 16  PhysHlth              233149 non-null  float64\n",
      " 17  DiffWalk              233149 non-null  float64\n",
      " 18  Sex                   233149 non-null  float64\n",
      " 19  Age                   233149 non-null  float64\n",
      " 20  Education             233149 non-null  float64\n",
      " 21  Income                233149 non-null  float64\n",
      " 22  Race                  233149 non-null  float64\n",
      " 23  Depression            233149 non-null  float64\n",
      " 24  EmploymentStatus      233149 non-null  float64\n",
      "dtypes: float64(25)\n",
      "memory usage: 46.2 MB\n"
     ]
    }
   ],
   "source": [
    "df.info()"
   ]
  },
  {
   "cell_type": "code",
   "execution_count": 48,
   "metadata": {},
   "outputs": [],
   "source": [
    "# Code to save the cleaned dataset for use in the second notebook\n",
    "\n",
    "# df.to_csv('cleaned_BRFSS.csv')"
   ]
  },
  {
   "cell_type": "markdown",
   "metadata": {},
   "source": [
    "##### Diabetes - Data Exploration"
   ]
  },
  {
   "cell_type": "code",
   "execution_count": 49,
   "metadata": {},
   "outputs": [
    {
     "data": {
      "image/png": "[encoded data removed]",
      "text/plain": [
       "<Figure size 720x504 with 1 Axes>"
      ]
     },
     "metadata": {},
     "output_type": "display_data"
    }
   ],
   "source": [
    "# Bar Chart displaying count by whether or not individuals have diabetes\n",
    "\n",
    "%matplotlib inline\n",
    "\n",
    "colors = [\"#008000\",\"#FF0000\"]\n",
    "ax = sns.set(rc={\"figure.figsize\":(10, 7)})\n",
    "ax = sns.countplot(x = 'Diabetes', data = df, palette = colors)\n",
    "ax.set_xticklabels(['Non-Diabetic', 'Diabetic'])\n",
    "ax.set(title = 'Diabetes Distribution \\n (0: No Diabetes || 1: Diabetes)')\n",
    "\n",
    "plt.show()"
   ]
  },
  {
   "cell_type": "code",
   "execution_count": 50,
   "metadata": {},
   "outputs": [],
   "source": [
    "# Separate df by whether or not individuals have diabetes\n",
    "\n",
    "df_diabetes = df[df['Diabetes'] == 1]\n",
    "\n",
    "df_no_diabetes = df[df['Diabetes'] == 0]\n",
    " "
   ]
  },
  {
   "cell_type": "code",
   "execution_count": 51,
   "metadata": {},
   "outputs": [
    {
     "data": {
      "text/plain": [
       "(233149, 25)"
      ]
     },
     "execution_count": 51,
     "metadata": {},
     "output_type": "execute_result"
    }
   ],
   "source": [
    "df.shape"
   ]
  },
  {
   "cell_type": "code",
   "execution_count": 52,
   "metadata": {},
   "outputs": [
    {
     "name": "stdout",
     "output_type": "stream",
     "text": [
      "Individuals with Diabetes: 38966\n",
      "Individuals without Diabetes: 194183\n"
     ]
    }
   ],
   "source": [
    "df_diabetes_count = df_diabetes['Diabetes'].count()\n",
    "\n",
    "df_no_diabetes_count = df_no_diabetes['Diabetes'].count()\n",
    "\n",
    "print(\"Individuals with Diabetes:\", df_diabetes_count)\n",
    "\n",
    "print(\"Individuals without Diabetes:\", df_no_diabetes_count)"
   ]
  },
  {
   "cell_type": "code",
   "execution_count": 53,
   "metadata": {},
   "outputs": [
    {
     "name": "stdout",
     "output_type": "stream",
     "text": [
      "Individuals with Diabetes: 16.712917490531805 %\n",
      "\n",
      "Individuals without Diabetes: 83.28708250946819 %\n"
     ]
    }
   ],
   "source": [
    "print(\"Individuals with Diabetes:\", (df_diabetes_count)*100/(df_diabetes_count + df_no_diabetes_count),\"%\\n\")\n",
    "\n",
    "print(\"Individuals without Diabetes:\", (df_no_diabetes_count)*100/(df_diabetes_count + df_no_diabetes_count),\"%\")"
   ]
  },
  {
   "cell_type": "markdown",
   "metadata": {},
   "source": [
    "##### Gender"
   ]
  },
  {
   "cell_type": "code",
   "execution_count": 54,
   "metadata": {},
   "outputs": [
    {
     "data": {
      "image/png": "[encoded data removed]",
      "text/plain": [
       "<Figure size 1440x720 with 2 Axes>"
      ]
     },
     "metadata": {},
     "output_type": "display_data"
    }
   ],
   "source": [
    "# Gender Distribution of Diabetes\n",
    "\n",
    "colors = [\"#008000\",\"#FF0000\"]\n",
    "\n",
    "fig, (ax1, ax2) = plt.subplots(1,2, sharey=True, figsize=(20,10))\n",
    "\n",
    "ax1 = sns.countplot(x = 'Sex', ax=ax1, data = df_no_diabetes, palette = colors)\n",
    "ax1.set(title = 'Gender distribution (no-diabetes)')\n",
    "ax1.set_xticklabels(['Female', 'Male'])\n",
    "\n",
    "ax2 = sns.countplot(x = 'Sex', ax=ax2, data = df_diabetes, palette = colors)\n",
    "ax2.set(title = 'Gender distribution (diabetes)')\n",
    "ax2.set_xticklabels(['Female', 'Male'])\n",
    "\n",
    "plt.show()"
   ]
  },
  {
   "cell_type": "code",
   "execution_count": 55,
   "metadata": {},
   "outputs": [
    {
     "name": "stdout",
     "output_type": "stream",
     "text": [
      "reject null hypothesis\n"
     ]
    },
    {
     "data": {
      "text/plain": [
       "5.109333468495899e-41"
      ]
     },
     "execution_count": 55,
     "metadata": {},
     "output_type": "execute_result"
    }
   ],
   "source": [
    "contigency = pd.crosstab(df[\"Diabetes\"], df[\"Sex\"])\n",
    "\n",
    "contigency\n",
    "\n",
    "chi2, p_value_1, dof, exp_freq = chi2_contingency(contigency)\n",
    "\n",
    "if p_value_1 < 0.05:\n",
    "    print(\"reject null hypothesis\")\n",
    "else:\n",
    "    print(\"accept null hypothesis\")\n",
    "\n",
    "p_value_1    "
   ]
  },
  {
   "cell_type": "markdown",
   "metadata": {},
   "source": [
    "##### Age"
   ]
  },
  {
   "cell_type": "code",
   "execution_count": 56,
   "metadata": {},
   "outputs": [
    {
     "data": {
      "text/plain": [
       "[Text(0, 0, '18-24'),\n",
       " Text(1, 0, '25-29'),\n",
       " Text(2, 0, '30-34'),\n",
       " Text(3, 0, '35-39'),\n",
       " Text(4, 0, '40-44'),\n",
       " Text(5, 0, '45-49'),\n",
       " Text(6, 0, '50-54'),\n",
       " Text(7, 0, '55-59'),\n",
       " Text(8, 0, '60-64'),\n",
       " Text(9, 0, '65-69'),\n",
       " Text(10, 0, '70-74'),\n",
       " Text(11, 0, '75-79'),\n",
       " Text(12, 0, '>80')]"
      ]
     },
     "execution_count": 56,
     "metadata": {},
     "output_type": "execute_result"
    },
    {
     "data": {
      "image/png": "[encoded data removed]",
      "text/plain": [
       "<Figure size 720x504 with 1 Axes>"
      ]
     },
     "metadata": {},
     "output_type": "display_data"
    }
   ],
   "source": [
    "# Age dist. of whole dataset\n",
    "\n",
    "ax = sns.countplot(data = df, x = \"Age\")\n",
    "\n",
    "ax.set(title = 'Age Distribution (Entire Dataset)')\n",
    "\n",
    "ax.set_xticklabels(['18-24', '25-29', '30-34', '35-39', \n",
    "'40-44', '45-49', '50-54', '55-59', '60-64', '65-69', \n",
    "'70-74', '75-79', '>80'])"
   ]
  },
  {
   "cell_type": "code",
   "execution_count": 57,
   "metadata": {},
   "outputs": [
    {
     "data": {
      "text/plain": [
       "[Text(0, 0, '18-24'),\n",
       " Text(1, 0, '25-29'),\n",
       " Text(2, 0, '30-34'),\n",
       " Text(3, 0, '35-39'),\n",
       " Text(4, 0, '40-44'),\n",
       " Text(5, 0, '45-49'),\n",
       " Text(6, 0, '50-54'),\n",
       " Text(7, 0, '55-59'),\n",
       " Text(8, 0, '60-64'),\n",
       " Text(9, 0, '65-69'),\n",
       " Text(10, 0, '70-74'),\n",
       " Text(11, 0, '75-79'),\n",
       " Text(12, 0, '>80')]"
      ]
     },
     "execution_count": 57,
     "metadata": {},
     "output_type": "execute_result"
    },
    {
     "data": {
      "image/png": "[encoded data removed]",
      "text/plain": [
       "<Figure size 720x504 with 1 Axes>"
      ]
     },
     "metadata": {},
     "output_type": "display_data"
    }
   ],
   "source": [
    "# Age dist. of diabetics\n",
    "\n",
    "ax = sns.countplot(data = df_diabetes, x = \"Age\")\n",
    "\n",
    "ax.set(title = 'diabetes distribution by Age')\n",
    "\n",
    "ax.set_xticklabels(['18-24', '25-29', '30-34', '35-39', \n",
    "'40-44', '45-49', '50-54', '55-59', '60-64', '65-69', \n",
    "'70-74', '75-79', '>80'])"
   ]
  },
  {
   "cell_type": "code",
   "execution_count": 58,
   "metadata": {},
   "outputs": [
    {
     "data": {
      "text/plain": [
       "[Text(0, 0, '18-24'),\n",
       " Text(1, 0, '25-29'),\n",
       " Text(2, 0, '30-34'),\n",
       " Text(3, 0, '35-39'),\n",
       " Text(4, 0, '40-44'),\n",
       " Text(5, 0, '45-49'),\n",
       " Text(6, 0, '50-54'),\n",
       " Text(7, 0, '55-59'),\n",
       " Text(8, 0, '60-64'),\n",
       " Text(9, 0, '65-69'),\n",
       " Text(10, 0, '70-74'),\n",
       " Text(11, 0, '75-79'),\n",
       " Text(12, 0, '>80')]"
      ]
     },
     "execution_count": 58,
     "metadata": {},
     "output_type": "execute_result"
    },
    {
     "data": {
      "image/png": "[encoded data removed]",
      "text/plain": [
       "<Figure size 720x504 with 1 Axes>"
      ]
     },
     "metadata": {},
     "output_type": "display_data"
    }
   ],
   "source": [
    "# Age dist. of non-diabetics\n",
    "\n",
    "ax = sns.countplot(data = df[df[\"Diabetes\"] == 0], x = \"Age\")\n",
    "\n",
    "ax.set(title = 'Age Distribution (No Diabetes)')\n",
    "\n",
    "ax.set_xticklabels(['18-24', '25-29', '30-34', '35-39', \n",
    "'40-44', '45-49', '50-54', '55-59', '60-64', '65-69', \n",
    "'70-74', '75-79', '>80'])"
   ]
  },
  {
   "cell_type": "markdown",
   "metadata": {},
   "source": [
    "### Continuous Variables"
   ]
  },
  {
   "cell_type": "markdown",
   "metadata": {},
   "source": [
    "#### BMI"
   ]
  },
  {
   "cell_type": "code",
   "execution_count": 59,
   "metadata": {},
   "outputs": [
    {
     "data": {
      "text/plain": [
       "(10.0, 65.0)"
      ]
     },
     "execution_count": 59,
     "metadata": {},
     "output_type": "execute_result"
    },
    {
     "data": {
      "image/png": "[encoded data removed]",
      "text/plain": [
       "<Figure size 720x504 with 1 Axes>"
      ]
     },
     "metadata": {},
     "output_type": "display_data"
    }
   ],
   "source": [
    "# Hist plot for BMI\n",
    "\n",
    "ax = sns.histplot(data = df_diabetes, x = \"BMI\")\n",
    "\n",
    "ax.set(title = 'diabetes distribution by BMI')\n",
    "\n",
    "plt.xlim(10,65)"
   ]
  },
  {
   "cell_type": "code",
   "execution_count": 60,
   "metadata": {},
   "outputs": [
    {
     "data": {
      "text/plain": [
       "(10.0, 65.0)"
      ]
     },
     "execution_count": 60,
     "metadata": {},
     "output_type": "execute_result"
    },
    {
     "data": {
      "image/png": "[encoded data removed]",
      "text/plain": [
       "<Figure size 720x504 with 1 Axes>"
      ]
     },
     "metadata": {},
     "output_type": "display_data"
    }
   ],
   "source": [
    "# Boxplot for BMI\n",
    "\n",
    "colors = [\"#008000\",\"#FF0000\"]\n",
    "\n",
    "ax = sns.boxplot(data=df, x='Diabetes', y='BMI', palette = colors)\n",
    "\n",
    "ax.set(title = 'BMI Distribution for Non-Diabetics and Diabetics')\n",
    "ax.set_xticklabels(['Non-Diabetic', 'Diabetic'])\n",
    "plt.ylim(10,65)"
   ]
  },
  {
   "cell_type": "code",
   "execution_count": 61,
   "metadata": {},
   "outputs": [],
   "source": [
    "# Find mean for BMI in diabetic and non-diabetic groups\n",
    "\n",
    "BMI_diabetes_mean = df_diabetes['BMI'].mean()\n",
    "\n",
    "BMI_no_diabetes_mean = df_no_diabetes['BMI'].mean()"
   ]
  },
  {
   "cell_type": "code",
   "execution_count": 62,
   "metadata": {},
   "outputs": [
    {
     "name": "stdout",
     "output_type": "stream",
     "text": [
      "Average BMI for diabetic: 32.07873530770415\n",
      "Average BMI for non-diabetic: 28.31423966052641\n"
     ]
    }
   ],
   "source": [
    "print(\"Average BMI for diabetic:\", BMI_diabetes_mean)\n",
    "\n",
    "print(\"Average BMI for non-diabetic:\", BMI_no_diabetes_mean)"
   ]
  },
  {
   "cell_type": "markdown",
   "metadata": {},
   "source": [
    "Running T Test to determine whether there is a significant difference in BMI between diabetics and non-diabetics"
   ]
  },
  {
   "cell_type": "code",
   "execution_count": 63,
   "metadata": {},
   "outputs": [
    {
     "name": "stdout",
     "output_type": "stream",
     "text": [
      "reject null hypothesis\n"
     ]
    }
   ],
   "source": [
    "# Hypothesis Test - do non-diabetics and diabetics have the same BMI (95% confidence level)\n",
    "\n",
    "BMI_diabetes = df_diabetes['BMI']\n",
    "\n",
    "BMI_no_diabetes = df_no_diabetes['BMI']\n",
    "\n",
    "ttest,p_value_1  = stats.ttest_ind(BMI_diabetes, BMI_no_diabetes)\n",
    "\n",
    "if p_value_1 < 0.05:\n",
    "    print(\"reject null hypothesis\")\n",
    "else:\n",
    "    print(\"accept null\")"
   ]
  },
  {
   "cell_type": "markdown",
   "metadata": {},
   "source": [
    "#### Mental Health Days"
   ]
  },
  {
   "cell_type": "code",
   "execution_count": 64,
   "metadata": {
    "scrolled": true
   },
   "outputs": [
    {
     "data": {
      "text/plain": [
       "(0.0, 30.0)"
      ]
     },
     "execution_count": 64,
     "metadata": {},
     "output_type": "execute_result"
    },
    {
     "data": {
      "image/png": "[encoded data removed]",
      "text/plain": [
       "<Figure size 720x504 with 1 Axes>"
      ]
     },
     "metadata": {},
     "output_type": "display_data"
    }
   ],
   "source": [
    "# Hist plot for Mental Health Days \n",
    "\n",
    "ax = sns.histplot(data = df_diabetes, x = \"MentHlth\")\n",
    "\n",
    "ax.set(title = 'diabetes distribution by The number of days the individual had poor mental health in the previous month')\n",
    "\n",
    "plt.xlim(0,30)"
   ]
  },
  {
   "cell_type": "code",
   "execution_count": 65,
   "metadata": {},
   "outputs": [],
   "source": [
    "# Find mean for Poor Mental Health Days in diabetic and non-diabetic groups\n",
    "\n",
    "MentHlth_diabetes_mean = df_diabetes['MentHlth'].mean()\n",
    "\n",
    "MentHlth_no_diabetes_mean = df_no_diabetes['MentHlth'].mean()"
   ]
  },
  {
   "cell_type": "code",
   "execution_count": 66,
   "metadata": {
    "scrolled": true
   },
   "outputs": [
    {
     "name": "stdout",
     "output_type": "stream",
     "text": [
      "Average Poor Mental Health Days for diabetics: 4.631858543345481\n",
      "Average Poor Mental Health Days for non-diabetics: 3.7645262458608633\n"
     ]
    }
   ],
   "source": [
    "print(\"Average Poor Mental Health Days for diabetics:\", MentHlth_diabetes_mean)\n",
    "\n",
    "print(\"Average Poor Mental Health Days for non-diabetics:\", MentHlth_no_diabetes_mean)"
   ]
  },
  {
   "cell_type": "markdown",
   "metadata": {},
   "source": [
    "Running T Test to determine whether there is a significant difference in days in previous month with poor mental health between diabetics and non-diabetics"
   ]
  },
  {
   "cell_type": "code",
   "execution_count": 67,
   "metadata": {},
   "outputs": [
    {
     "name": "stdout",
     "output_type": "stream",
     "text": [
      "reject null hypothesis\n"
     ]
    },
    {
     "data": {
      "text/plain": [
       "5.896492265691021e-88"
      ]
     },
     "execution_count": 67,
     "metadata": {},
     "output_type": "execute_result"
    }
   ],
   "source": [
    "# Hypothesis Test - do non-diabetics and diabetics have the same level of mental health (95% confidence level)\n",
    "\n",
    "MentHlth_diabetes = df_diabetes['MentHlth']\n",
    "\n",
    "MentHlth_no_diabetes = df_no_diabetes['MentHlth']\n",
    "\n",
    "ttest,p_value_2  = stats.ttest_ind(MentHlth_diabetes, MentHlth_no_diabetes)\n",
    "\n",
    "if p_value_2 < 0.05:\n",
    "    print(\"reject null hypothesis\")\n",
    "else:\n",
    "    print(\"accept null\")\n",
    "    \n",
    "p_value_2    "
   ]
  },
  {
   "cell_type": "markdown",
   "metadata": {},
   "source": [
    "##### Physical Health"
   ]
  },
  {
   "cell_type": "code",
   "execution_count": 68,
   "metadata": {},
   "outputs": [
    {
     "data": {
      "text/plain": [
       "(0.0, 30.0)"
      ]
     },
     "execution_count": 68,
     "metadata": {},
     "output_type": "execute_result"
    },
    {
     "data": {
      "image/png": "[encoded data removed]",
      "text/plain": [
       "<Figure size 720x504 with 1 Axes>"
      ]
     },
     "metadata": {},
     "output_type": "display_data"
    }
   ],
   "source": [
    "# PhysHlth\n",
    "\n",
    "ax = sns.histplot(data = df_diabetes, x = \"PhysHlth\")\n",
    "\n",
    "ax.set(title = 'diabetes distribution by The number of days the individual was in poor physical health in the previous month')\n",
    "\n",
    "plt.xlim(0,30)\n",
    "\n"
   ]
  },
  {
   "cell_type": "code",
   "execution_count": 69,
   "metadata": {},
   "outputs": [],
   "source": [
    "# Find mean for Poor Physical Health Days in diabetic and non-diabetic groups\n",
    "\n",
    "PhysHlth_diabetes_mean = df_diabetes['PhysHlth'].mean()\n",
    "\n",
    "PhysHlth_no_diabetes_mean = df_no_diabetes['PhysHlth'].mean()"
   ]
  },
  {
   "cell_type": "code",
   "execution_count": 70,
   "metadata": {},
   "outputs": [
    {
     "name": "stdout",
     "output_type": "stream",
     "text": [
      "Average Number of Days with poor physical health for diabetics: 6.703151465380075\n",
      "Average Number of Days with poor physical health for non-diabetics: 3.1521760401270966\n"
     ]
    }
   ],
   "source": [
    "print(\"Average Number of Days with poor physical health for diabetics:\", PhysHlth_diabetes_mean)\n",
    "\n",
    "print(\"Average Number of Days with poor physical health for non-diabetics:\", PhysHlth_no_diabetes_mean)"
   ]
  },
  {
   "cell_type": "markdown",
   "metadata": {},
   "source": [
    "Running T Test to determine whether there is a significant difference in days in previous month with poor physical health between diabetics and non-diabetics"
   ]
  },
  {
   "cell_type": "code",
   "execution_count": 71,
   "metadata": {},
   "outputs": [
    {
     "name": "stdout",
     "output_type": "stream",
     "text": [
      "reject null hypothesis\n"
     ]
    },
    {
     "data": {
      "text/plain": [
       "0.0"
      ]
     },
     "execution_count": 71,
     "metadata": {},
     "output_type": "execute_result"
    }
   ],
   "source": [
    "# Hypothesis Test - do non-diabetics and diabetics have the same level of physical health (95% confidence level)\n",
    "\n",
    "PhysHlth_diabetes = df_diabetes['PhysHlth']\n",
    "\n",
    "PhysHlth_no_diabetes = df_no_diabetes['PhysHlth']\n",
    "\n",
    "ttest,p_value_3 = stats.ttest_ind(PhysHlth_diabetes, PhysHlth_no_diabetes)\n",
    "\n",
    "if p_value_3 < 0.05:\n",
    "    print(\"reject null hypothesis\")\n",
    "else:\n",
    "    print(\"accept null\")\n",
    "    \n",
    "p_value_3    "
   ]
  },
  {
   "cell_type": "markdown",
   "metadata": {},
   "source": [
    "#### Compiled T Test Results"
   ]
  },
  {
   "cell_type": "code",
   "execution_count": 72,
   "metadata": {},
   "outputs": [
    {
     "data": {
      "text/html": [
       "<div>\n",
       "<style scoped>\n",
       "    .dataframe tbody tr th:only-of-type {\n",
       "        vertical-align: middle;\n",
       "    }\n",
       "\n",
       "    .dataframe tbody tr th {\n",
       "        vertical-align: top;\n",
       "    }\n",
       "\n",
       "    .dataframe thead th {\n",
       "        text-align: right;\n",
       "    }\n",
       "</style>\n",
       "<table border=\"1\" class=\"dataframe\">\n",
       "  <thead>\n",
       "    <tr style=\"text-align: right;\">\n",
       "      <th></th>\n",
       "      <th>Variable Name</th>\n",
       "      <th>Mean (No Diabetes)</th>\n",
       "      <th>Mean (Diabetes)</th>\n",
       "      <th>p value (t-test)</th>\n",
       "      <th>Hypothesis</th>\n",
       "    </tr>\n",
       "  </thead>\n",
       "  <tbody>\n",
       "    <tr>\n",
       "      <th>BMI</th>\n",
       "      <td>BMI</td>\n",
       "      <td>28.31424</td>\n",
       "      <td>32.078735</td>\n",
       "      <td>0.0</td>\n",
       "      <td>Reject Null Hypothesis</td>\n",
       "    </tr>\n",
       "    <tr>\n",
       "      <th>Mental Health</th>\n",
       "      <td>MentHlth</td>\n",
       "      <td>3.764526</td>\n",
       "      <td>4.631859</td>\n",
       "      <td>0.0</td>\n",
       "      <td>Reject Null Hypothesis</td>\n",
       "    </tr>\n",
       "    <tr>\n",
       "      <th>Physical Health</th>\n",
       "      <td>PhysHlth</td>\n",
       "      <td>3.152176</td>\n",
       "      <td>6.703151</td>\n",
       "      <td>0.0</td>\n",
       "      <td>Reject Null Hypothesis</td>\n",
       "    </tr>\n",
       "  </tbody>\n",
       "</table>\n",
       "</div>"
      ],
      "text/plain": [
       "                Variable Name Mean (No Diabetes) Mean (Diabetes)  \\\n",
       "BMI                       BMI           28.31424       32.078735   \n",
       "Mental Health        MentHlth           3.764526        4.631859   \n",
       "Physical Health      PhysHlth           3.152176        6.703151   \n",
       "\n",
       "                p value (t-test)              Hypothesis  \n",
       "BMI                          0.0  Reject Null Hypothesis  \n",
       "Mental Health                0.0  Reject Null Hypothesis  \n",
       "Physical Health              0.0  Reject Null Hypothesis  "
      ]
     },
     "execution_count": 72,
     "metadata": {},
     "output_type": "execute_result"
    }
   ],
   "source": [
    "# Compile T Tests into a dataframe\n",
    "\n",
    "data = {'BMI': ['BMI', BMI_no_diabetes_mean, BMI_diabetes_mean ,p_value_1], \n",
    "       'Physical Health': ['PhysHlth', PhysHlth_no_diabetes_mean, PhysHlth_diabetes_mean, p_value_2],\n",
    "       'Mental Health' : ['MentHlth', MentHlth_no_diabetes_mean, MentHlth_diabetes_mean, p_value_3]}\n",
    "\n",
    "df_comp = pd.DataFrame(data)\n",
    "df_comp = df_comp.rename(index = {0 : 'Variable Name',\n",
    "                                  1 : 'Mean (No Diabetes)',\n",
    "                                  2 : 'Mean (Diabetes)',\n",
    "                                  3 : 'p value (t-test)',\n",
    "                                  \n",
    "})\n",
    "\n",
    "df_comp = df_comp.sort_values(by = 'p value (t-test)', axis = 1, ascending = True)\n",
    "\n",
    "df_comp_T = df_comp.transpose()\n",
    "\n",
    "df_comp_T['Hypothesis'] = \" \"\n",
    "\n",
    "\n",
    "\n",
    "for i in range(len(df_comp_T)):\n",
    "    if df_comp_T['p value (t-test)'][i] < 0.05:\n",
    "        df_comp_T['Hypothesis'][i] = 'Reject Null Hypothesis'\n",
    "    else:\n",
    "        df_comp_T['Hypothesis'][i] = 'Accept Null Hypothesis'\n",
    "        \n",
    "df_comp_T        "
   ]
  },
  {
   "cell_type": "code",
   "execution_count": 73,
   "metadata": {},
   "outputs": [],
   "source": [
    "# code to convert above df to csv\n",
    "\n",
    "# df_comp_T.to_csv('t tests.csv')"
   ]
  },
  {
   "cell_type": "markdown",
   "metadata": {},
   "source": [
    "### Dummy/Grouped Variables"
   ]
  },
  {
   "cell_type": "code",
   "execution_count": 74,
   "metadata": {},
   "outputs": [
    {
     "data": {
      "text/plain": [
       "['HighBP',\n",
       " 'HighChol',\n",
       " 'CholCheck',\n",
       " 'Smoker',\n",
       " 'Stroke',\n",
       " 'HeartDiseaseorAttack',\n",
       " 'PhysActivity',\n",
       " 'Fruits',\n",
       " 'Veggies',\n",
       " 'HvyAlcoholConsump',\n",
       " 'HealthPlan',\n",
       " 'NoDocbcCost',\n",
       " 'GenHlth',\n",
       " 'DiffWalk',\n",
       " 'Sex',\n",
       " 'Age',\n",
       " 'Education',\n",
       " 'Income',\n",
       " 'Race',\n",
       " 'Depression',\n",
       " 'EmploymentStatus']"
      ]
     },
     "execution_count": 74,
     "metadata": {},
     "output_type": "execute_result"
    }
   ],
   "source": [
    "dummy_variables = df.columns.values.tolist()\n",
    "\n",
    "drop_names = ['Diabetes','BMI','PhysHlth', 'MentHlth']\n",
    "\n",
    "for i in range(len(drop_names)):\n",
    "    dummy_variables.remove(drop_names[i])\n",
    "\n",
    "dummy_variables"
   ]
  },
  {
   "cell_type": "code",
   "execution_count": 75,
   "metadata": {},
   "outputs": [],
   "source": [
    "data_chi2 = {}\n",
    "h0 = \" \""
   ]
  },
  {
   "cell_type": "code",
   "execution_count": 76,
   "metadata": {},
   "outputs": [],
   "source": [
    "# Running CHI^2 tests for dummy variables\n",
    "\n",
    "def chi_check(var1, var2, significance_level=None):\n",
    "  tab_class = pd.crosstab(df[var1], df[var2], margins=True)\n",
    "  tab_values = np.array([tab_class.iloc[0].values,\n",
    "                  tab_class.iloc[1].values])\n",
    "  stat, p, dof, expected_value= chi2_contingency(tab_values)\n",
    "  print(var2)\n",
    "  print(\"p value: \" + str(p)) \n",
    "  if p <= significance_level: \n",
    "    print('Reject NULL HYPOTHESIS\\n') \n",
    "    h0 = 'Reject NULL HYPOTHESIS' \n",
    "  else:\n",
    "    print('ACCEPT NULL HYPOTHESIS\\n')\n",
    "    h0 = 'ACCEPT NULL HYPOTHESIS' \n",
    "  data_chi2[var2] = [p, h0] "
   ]
  },
  {
   "cell_type": "code",
   "execution_count": 77,
   "metadata": {},
   "outputs": [
    {
     "name": "stdout",
     "output_type": "stream",
     "text": [
      "HighBP\n",
      "p value: 0.0\n",
      "Reject NULL HYPOTHESIS\n",
      "\n",
      "HighChol\n",
      "p value: 0.0\n",
      "Reject NULL HYPOTHESIS\n",
      "\n",
      "CholCheck\n",
      "p value: 2.1571416474106385e-273\n",
      "Reject NULL HYPOTHESIS\n",
      "\n",
      "Smoker\n",
      "p value: 0.0005291192852727106\n",
      "Reject NULL HYPOTHESIS\n",
      "\n",
      "Stroke\n",
      "p value: 0.0\n",
      "Reject NULL HYPOTHESIS\n",
      "\n",
      "HeartDiseaseorAttack\n",
      "p value: 0.0\n",
      "Reject NULL HYPOTHESIS\n",
      "\n",
      "PhysActivity\n",
      "p value: 0.0\n",
      "Reject NULL HYPOTHESIS\n",
      "\n",
      "Fruits\n",
      "p value: 7.26229207832389e-48\n",
      "Reject NULL HYPOTHESIS\n",
      "\n",
      "Veggies\n",
      "p value: 3.4458784067436144e-112\n",
      "Reject NULL HYPOTHESIS\n",
      "\n",
      "HvyAlcoholConsump\n",
      "p value: 1.950506179591353e-171\n",
      "Reject NULL HYPOTHESIS\n",
      "\n",
      "HealthPlan\n",
      "p value: 6.2757304488979976e-30\n",
      "Reject NULL HYPOTHESIS\n",
      "\n",
      "NoDocbcCost\n",
      "p value: 7.204390858375877e-19\n",
      "Reject NULL HYPOTHESIS\n",
      "\n",
      "GenHlth\n",
      "p value: 0.0\n",
      "Reject NULL HYPOTHESIS\n",
      "\n",
      "DiffWalk\n",
      "p value: 0.0\n",
      "Reject NULL HYPOTHESIS\n",
      "\n",
      "Sex\n",
      "p value: 8.015921798014835e-40\n",
      "Reject NULL HYPOTHESIS\n",
      "\n",
      "Age\n",
      "p value: 0.0\n",
      "Reject NULL HYPOTHESIS\n",
      "\n",
      "Education\n",
      "p value: 0.0\n",
      "Reject NULL HYPOTHESIS\n",
      "\n",
      "Income\n",
      "p value: 0.0\n",
      "Reject NULL HYPOTHESIS\n",
      "\n",
      "Race\n",
      "p value: 1.3573286378286586e-277\n",
      "Reject NULL HYPOTHESIS\n",
      "\n",
      "Depression\n",
      "p value: 4.227578685343664e-148\n",
      "Reject NULL HYPOTHESIS\n",
      "\n",
      "EmploymentStatus\n",
      "p value: 0.0\n",
      "Reject NULL HYPOTHESIS\n",
      "\n"
     ]
    }
   ],
   "source": [
    "for i in range(len(dummy_variables)):\n",
    "    chi_check('Diabetes',dummy_variables[i],significance_level=0.05)"
   ]
  },
  {
   "cell_type": "code",
   "execution_count": 78,
   "metadata": {},
   "outputs": [
    {
     "data": {
      "text/html": [
       "<div>\n",
       "<style scoped>\n",
       "    .dataframe tbody tr th:only-of-type {\n",
       "        vertical-align: middle;\n",
       "    }\n",
       "\n",
       "    .dataframe tbody tr th {\n",
       "        vertical-align: top;\n",
       "    }\n",
       "\n",
       "    .dataframe thead th {\n",
       "        text-align: right;\n",
       "    }\n",
       "</style>\n",
       "<table border=\"1\" class=\"dataframe\">\n",
       "  <thead>\n",
       "    <tr style=\"text-align: right;\">\n",
       "      <th></th>\n",
       "      <th>p value (chi2-test)</th>\n",
       "      <th>Hypothesis</th>\n",
       "    </tr>\n",
       "  </thead>\n",
       "  <tbody>\n",
       "    <tr>\n",
       "      <th>HighBP</th>\n",
       "      <td>0.0</td>\n",
       "      <td>Reject NULL HYPOTHESIS</td>\n",
       "    </tr>\n",
       "    <tr>\n",
       "      <th>Income</th>\n",
       "      <td>0.0</td>\n",
       "      <td>Reject NULL HYPOTHESIS</td>\n",
       "    </tr>\n",
       "    <tr>\n",
       "      <th>Education</th>\n",
       "      <td>0.0</td>\n",
       "      <td>Reject NULL HYPOTHESIS</td>\n",
       "    </tr>\n",
       "    <tr>\n",
       "      <th>Age</th>\n",
       "      <td>0.0</td>\n",
       "      <td>Reject NULL HYPOTHESIS</td>\n",
       "    </tr>\n",
       "    <tr>\n",
       "      <th>DiffWalk</th>\n",
       "      <td>0.0</td>\n",
       "      <td>Reject NULL HYPOTHESIS</td>\n",
       "    </tr>\n",
       "    <tr>\n",
       "      <th>GenHlth</th>\n",
       "      <td>0.0</td>\n",
       "      <td>Reject NULL HYPOTHESIS</td>\n",
       "    </tr>\n",
       "    <tr>\n",
       "      <th>EmploymentStatus</th>\n",
       "      <td>0.0</td>\n",
       "      <td>Reject NULL HYPOTHESIS</td>\n",
       "    </tr>\n",
       "    <tr>\n",
       "      <th>HeartDiseaseorAttack</th>\n",
       "      <td>0.0</td>\n",
       "      <td>Reject NULL HYPOTHESIS</td>\n",
       "    </tr>\n",
       "    <tr>\n",
       "      <th>Stroke</th>\n",
       "      <td>0.0</td>\n",
       "      <td>Reject NULL HYPOTHESIS</td>\n",
       "    </tr>\n",
       "    <tr>\n",
       "      <th>HighChol</th>\n",
       "      <td>0.0</td>\n",
       "      <td>Reject NULL HYPOTHESIS</td>\n",
       "    </tr>\n",
       "    <tr>\n",
       "      <th>PhysActivity</th>\n",
       "      <td>0.0</td>\n",
       "      <td>Reject NULL HYPOTHESIS</td>\n",
       "    </tr>\n",
       "    <tr>\n",
       "      <th>Race</th>\n",
       "      <td>0.0</td>\n",
       "      <td>Reject NULL HYPOTHESIS</td>\n",
       "    </tr>\n",
       "    <tr>\n",
       "      <th>CholCheck</th>\n",
       "      <td>0.0</td>\n",
       "      <td>Reject NULL HYPOTHESIS</td>\n",
       "    </tr>\n",
       "    <tr>\n",
       "      <th>HvyAlcoholConsump</th>\n",
       "      <td>0.0</td>\n",
       "      <td>Reject NULL HYPOTHESIS</td>\n",
       "    </tr>\n",
       "    <tr>\n",
       "      <th>Depression</th>\n",
       "      <td>0.0</td>\n",
       "      <td>Reject NULL HYPOTHESIS</td>\n",
       "    </tr>\n",
       "    <tr>\n",
       "      <th>Veggies</th>\n",
       "      <td>0.0</td>\n",
       "      <td>Reject NULL HYPOTHESIS</td>\n",
       "    </tr>\n",
       "    <tr>\n",
       "      <th>Fruits</th>\n",
       "      <td>0.0</td>\n",
       "      <td>Reject NULL HYPOTHESIS</td>\n",
       "    </tr>\n",
       "    <tr>\n",
       "      <th>Sex</th>\n",
       "      <td>0.0</td>\n",
       "      <td>Reject NULL HYPOTHESIS</td>\n",
       "    </tr>\n",
       "    <tr>\n",
       "      <th>HealthPlan</th>\n",
       "      <td>0.0</td>\n",
       "      <td>Reject NULL HYPOTHESIS</td>\n",
       "    </tr>\n",
       "    <tr>\n",
       "      <th>NoDocbcCost</th>\n",
       "      <td>0.0</td>\n",
       "      <td>Reject NULL HYPOTHESIS</td>\n",
       "    </tr>\n",
       "    <tr>\n",
       "      <th>Smoker</th>\n",
       "      <td>0.000529</td>\n",
       "      <td>Reject NULL HYPOTHESIS</td>\n",
       "    </tr>\n",
       "  </tbody>\n",
       "</table>\n",
       "</div>"
      ],
      "text/plain": [
       "                     p value (chi2-test)              Hypothesis\n",
       "HighBP                               0.0  Reject NULL HYPOTHESIS\n",
       "Income                               0.0  Reject NULL HYPOTHESIS\n",
       "Education                            0.0  Reject NULL HYPOTHESIS\n",
       "Age                                  0.0  Reject NULL HYPOTHESIS\n",
       "DiffWalk                             0.0  Reject NULL HYPOTHESIS\n",
       "GenHlth                              0.0  Reject NULL HYPOTHESIS\n",
       "EmploymentStatus                     0.0  Reject NULL HYPOTHESIS\n",
       "HeartDiseaseorAttack                 0.0  Reject NULL HYPOTHESIS\n",
       "Stroke                               0.0  Reject NULL HYPOTHESIS\n",
       "HighChol                             0.0  Reject NULL HYPOTHESIS\n",
       "PhysActivity                         0.0  Reject NULL HYPOTHESIS\n",
       "Race                                 0.0  Reject NULL HYPOTHESIS\n",
       "CholCheck                            0.0  Reject NULL HYPOTHESIS\n",
       "HvyAlcoholConsump                    0.0  Reject NULL HYPOTHESIS\n",
       "Depression                           0.0  Reject NULL HYPOTHESIS\n",
       "Veggies                              0.0  Reject NULL HYPOTHESIS\n",
       "Fruits                               0.0  Reject NULL HYPOTHESIS\n",
       "Sex                                  0.0  Reject NULL HYPOTHESIS\n",
       "HealthPlan                           0.0  Reject NULL HYPOTHESIS\n",
       "NoDocbcCost                          0.0  Reject NULL HYPOTHESIS\n",
       "Smoker                          0.000529  Reject NULL HYPOTHESIS"
      ]
     },
     "execution_count": 78,
     "metadata": {},
     "output_type": "execute_result"
    }
   ],
   "source": [
    "df_comp_chi2 = pd.DataFrame(data_chi2)\n",
    "df_comp_chi2 = df_comp_chi2.rename(index = {0 : 'p value (chi2-test)',\n",
    "                                  1 : 'Hypothesis'\n",
    "                                                                  \n",
    "})\n",
    "\n",
    "df_comp_chi2 = df_comp_chi2.sort_values(by = 'p value (chi2-test)', axis = 1, ascending = True)\n",
    "\n",
    "df_comp_chi2_T = df_comp_chi2.transpose()\n",
    "\n",
    "df_comp_chi2_T"
   ]
  },
  {
   "cell_type": "code",
   "execution_count": 79,
   "metadata": {},
   "outputs": [],
   "source": [
    "# code to convert above df to csv\n",
    "\n",
    "# df_comp_chi2_T.to_csv('chi2 test.csv')"
   ]
  },
  {
   "cell_type": "markdown",
   "metadata": {},
   "source": [
    "##### High Cholestrol"
   ]
  },
  {
   "cell_type": "code",
   "execution_count": 80,
   "metadata": {},
   "outputs": [
    {
     "data": {
      "text/plain": [
       "<matplotlib.legend.Legend at 0x7fdcea8252e0>"
      ]
     },
     "execution_count": 80,
     "metadata": {},
     "output_type": "execute_result"
    },
    {
     "data": {
      "image/png": "[encoded data removed]",
      "text/plain": [
       "<Figure size 720x504 with 1 Axes>"
      ]
     },
     "metadata": {},
     "output_type": "display_data"
    }
   ],
   "source": [
    "# HighChol\n",
    "\n",
    "colors = [\"#008000\",\"#FF0000\"]\n",
    "\n",
    "ax = sns.countplot(data = df, x = 'Diabetes', hue='HighChol', \n",
    "palette = colors)\n",
    "\n",
    "ax.set(title = 'Individuals with high cholestrol grouped by diabetes status')\n",
    "ax.set_xticklabels(['Non-Diabetic', 'Diabetic'])\n",
    "ax.legend(['No High Cholesterol', 'High Cholesterol'])\n"
   ]
  },
  {
   "cell_type": "code",
   "execution_count": 81,
   "metadata": {},
   "outputs": [
    {
     "data": {
      "text/html": [
       "<div>\n",
       "<style scoped>\n",
       "    .dataframe tbody tr th:only-of-type {\n",
       "        vertical-align: middle;\n",
       "    }\n",
       "\n",
       "    .dataframe tbody tr th {\n",
       "        vertical-align: top;\n",
       "    }\n",
       "\n",
       "    .dataframe thead th {\n",
       "        text-align: right;\n",
       "    }\n",
       "</style>\n",
       "<table border=\"1\" class=\"dataframe\">\n",
       "  <thead>\n",
       "    <tr style=\"text-align: right;\">\n",
       "      <th></th>\n",
       "      <th>Diabetes</th>\n",
       "      <th>HighChol</th>\n",
       "      <th>Count</th>\n",
       "    </tr>\n",
       "  </thead>\n",
       "  <tbody>\n",
       "    <tr>\n",
       "      <th>0</th>\n",
       "      <td>0.0</td>\n",
       "      <td>0.0</td>\n",
       "      <td>124812</td>\n",
       "    </tr>\n",
       "    <tr>\n",
       "      <th>1</th>\n",
       "      <td>0.0</td>\n",
       "      <td>1.0</td>\n",
       "      <td>69371</td>\n",
       "    </tr>\n",
       "    <tr>\n",
       "      <th>2</th>\n",
       "      <td>1.0</td>\n",
       "      <td>0.0</td>\n",
       "      <td>14368</td>\n",
       "    </tr>\n",
       "    <tr>\n",
       "      <th>3</th>\n",
       "      <td>1.0</td>\n",
       "      <td>1.0</td>\n",
       "      <td>24598</td>\n",
       "    </tr>\n",
       "  </tbody>\n",
       "</table>\n",
       "</div>"
      ],
      "text/plain": [
       "   Diabetes  HighChol   Count\n",
       "0       0.0       0.0  124812\n",
       "1       0.0       1.0   69371\n",
       "2       1.0       0.0   14368\n",
       "3       1.0       1.0   24598"
      ]
     },
     "execution_count": 81,
     "metadata": {},
     "output_type": "execute_result"
    }
   ],
   "source": [
    "df_HighChol = df.groupby([\"Diabetes\", \"HighChol\"]).size().reset_index(name=\"Count\")\n",
    "\n",
    "df_HighChol"
   ]
  },
  {
   "cell_type": "markdown",
   "metadata": {},
   "source": [
    "##### High Blood Pressure"
   ]
  },
  {
   "cell_type": "code",
   "execution_count": 82,
   "metadata": {},
   "outputs": [
    {
     "data": {
      "text/plain": [
       "<matplotlib.legend.Legend at 0x7fdcfe5cc6a0>"
      ]
     },
     "execution_count": 82,
     "metadata": {},
     "output_type": "execute_result"
    },
    {
     "data": {
      "image/png": "[encoded data removed]",
      "text/plain": [
       "<Figure size 720x504 with 1 Axes>"
      ]
     },
     "metadata": {},
     "output_type": "display_data"
    }
   ],
   "source": [
    "# HighBP\n",
    "\n",
    "colors = [\"#008000\",\"#FF0000\"]\n",
    "\n",
    "ax = sns.countplot(data = df, x = 'Diabetes', hue='HighBP', \n",
    "palette = colors)\n",
    "\n",
    "ax.set(title = 'Individuals with High Blood Pressue grouped by diabetes status')\n",
    "ax.set_xticklabels(['Non-Diabetic', 'Diabetic'])\n",
    "ax.legend(['No High BP', 'High BP'])\n"
   ]
  },
  {
   "cell_type": "code",
   "execution_count": 83,
   "metadata": {},
   "outputs": [
    {
     "data": {
      "text/html": [
       "<div>\n",
       "<style scoped>\n",
       "    .dataframe tbody tr th:only-of-type {\n",
       "        vertical-align: middle;\n",
       "    }\n",
       "\n",
       "    .dataframe tbody tr th {\n",
       "        vertical-align: top;\n",
       "    }\n",
       "\n",
       "    .dataframe thead th {\n",
       "        text-align: right;\n",
       "    }\n",
       "</style>\n",
       "<table border=\"1\" class=\"dataframe\">\n",
       "  <thead>\n",
       "    <tr style=\"text-align: right;\">\n",
       "      <th></th>\n",
       "      <th>Diabetes</th>\n",
       "      <th>HighBP</th>\n",
       "      <th>Count</th>\n",
       "    </tr>\n",
       "  </thead>\n",
       "  <tbody>\n",
       "    <tr>\n",
       "      <th>0</th>\n",
       "      <td>0.0</td>\n",
       "      <td>0.0</td>\n",
       "      <td>124130</td>\n",
       "    </tr>\n",
       "    <tr>\n",
       "      <th>1</th>\n",
       "      <td>0.0</td>\n",
       "      <td>1.0</td>\n",
       "      <td>70053</td>\n",
       "    </tr>\n",
       "    <tr>\n",
       "      <th>2</th>\n",
       "      <td>1.0</td>\n",
       "      <td>0.0</td>\n",
       "      <td>11205</td>\n",
       "    </tr>\n",
       "    <tr>\n",
       "      <th>3</th>\n",
       "      <td>1.0</td>\n",
       "      <td>1.0</td>\n",
       "      <td>27761</td>\n",
       "    </tr>\n",
       "  </tbody>\n",
       "</table>\n",
       "</div>"
      ],
      "text/plain": [
       "   Diabetes  HighBP   Count\n",
       "0       0.0     0.0  124130\n",
       "1       0.0     1.0   70053\n",
       "2       1.0     0.0   11205\n",
       "3       1.0     1.0   27761"
      ]
     },
     "execution_count": 83,
     "metadata": {},
     "output_type": "execute_result"
    }
   ],
   "source": [
    "df_HighBP = df.groupby([\"Diabetes\", \"HighBP\"]).size().reset_index(name=\"Count\")\n",
    "\n",
    "df_HighBP"
   ]
  },
  {
   "cell_type": "markdown",
   "metadata": {},
   "source": [
    "##### Smoker"
   ]
  },
  {
   "cell_type": "code",
   "execution_count": 84,
   "metadata": {},
   "outputs": [
    {
     "data": {
      "text/plain": [
       "<matplotlib.legend.Legend at 0x7fdd0d09ff10>"
      ]
     },
     "execution_count": 84,
     "metadata": {},
     "output_type": "execute_result"
    },
    {
     "data": {
      "image/png": "[encoded data removed]",
      "text/plain": [
       "<Figure size 720x504 with 1 Axes>"
      ]
     },
     "metadata": {},
     "output_type": "display_data"
    }
   ],
   "source": [
    "# Smoker\n",
    "\n",
    "colors = [\"#008000\",\"#FF0000\"]\n",
    "\n",
    "ax = sns.countplot(data = df, x = 'Diabetes', hue='Smoker', \n",
    "palette = colors)\n",
    "\n",
    "ax.set(title = 'Individuals who smoke grouped by diabetes status')\n",
    "ax.set_xticklabels(['Non-Diabetic', 'Diabetic'])\n",
    "ax.legend(['Non-Smoker', 'Smoker'])\n"
   ]
  },
  {
   "cell_type": "code",
   "execution_count": 85,
   "metadata": {},
   "outputs": [
    {
     "data": {
      "text/html": [
       "<div>\n",
       "<style scoped>\n",
       "    .dataframe tbody tr th:only-of-type {\n",
       "        vertical-align: middle;\n",
       "    }\n",
       "\n",
       "    .dataframe tbody tr th {\n",
       "        vertical-align: top;\n",
       "    }\n",
       "\n",
       "    .dataframe thead th {\n",
       "        text-align: right;\n",
       "    }\n",
       "</style>\n",
       "<table border=\"1\" class=\"dataframe\">\n",
       "  <thead>\n",
       "    <tr style=\"text-align: right;\">\n",
       "      <th></th>\n",
       "      <th>Diabetes</th>\n",
       "      <th>Smoker</th>\n",
       "      <th>Count</th>\n",
       "    </tr>\n",
       "  </thead>\n",
       "  <tbody>\n",
       "    <tr>\n",
       "      <th>0</th>\n",
       "      <td>0.0</td>\n",
       "      <td>0.0</td>\n",
       "      <td>170619</td>\n",
       "    </tr>\n",
       "    <tr>\n",
       "      <th>1</th>\n",
       "      <td>0.0</td>\n",
       "      <td>1.0</td>\n",
       "      <td>23564</td>\n",
       "    </tr>\n",
       "    <tr>\n",
       "      <th>2</th>\n",
       "      <td>1.0</td>\n",
       "      <td>0.0</td>\n",
       "      <td>33962</td>\n",
       "    </tr>\n",
       "    <tr>\n",
       "      <th>3</th>\n",
       "      <td>1.0</td>\n",
       "      <td>1.0</td>\n",
       "      <td>5004</td>\n",
       "    </tr>\n",
       "  </tbody>\n",
       "</table>\n",
       "</div>"
      ],
      "text/plain": [
       "   Diabetes  Smoker   Count\n",
       "0       0.0     0.0  170619\n",
       "1       0.0     1.0   23564\n",
       "2       1.0     0.0   33962\n",
       "3       1.0     1.0    5004"
      ]
     },
     "execution_count": 85,
     "metadata": {},
     "output_type": "execute_result"
    }
   ],
   "source": [
    "df_Smoker = df.groupby([\"Diabetes\", \"Smoker\"]).size().reset_index(name=\"Count\")\n",
    "\n",
    "df_Smoker"
   ]
  },
  {
   "cell_type": "markdown",
   "metadata": {},
   "source": [
    "##### Heavy Alcohol Consumption"
   ]
  },
  {
   "cell_type": "code",
   "execution_count": 86,
   "metadata": {},
   "outputs": [
    {
     "data": {
      "text/plain": [
       "<matplotlib.legend.Legend at 0x7fdcfe755be0>"
      ]
     },
     "execution_count": 86,
     "metadata": {},
     "output_type": "execute_result"
    },
    {
     "data": {
      "image/png": "[encoded data removed]",
      "text/plain": [
       "<Figure size 720x504 with 1 Axes>"
      ]
     },
     "metadata": {},
     "output_type": "display_data"
    }
   ],
   "source": [
    "# HvyAlcoholConsump \n",
    "\n",
    "colors = [\"#008000\",\"#FF0000\"]\n",
    "\n",
    "ax = sns.countplot(data = df, x = 'Diabetes', hue='HvyAlcoholConsump', \n",
    "palette = colors)\n",
    "\n",
    "ax.set(title = 'Individuals who have large alcohol consumption levels grouped by diabetes status')\n",
    "ax.set_xticklabels(['Non-Diabetic', 'Diabetic'])\n",
    "ax.legend(['Light Alcohol Consumption', 'Heavy Alcohol Consumption'])"
   ]
  },
  {
   "cell_type": "code",
   "execution_count": 87,
   "metadata": {},
   "outputs": [
    {
     "data": {
      "text/html": [
       "<div>\n",
       "<style scoped>\n",
       "    .dataframe tbody tr th:only-of-type {\n",
       "        vertical-align: middle;\n",
       "    }\n",
       "\n",
       "    .dataframe tbody tr th {\n",
       "        vertical-align: top;\n",
       "    }\n",
       "\n",
       "    .dataframe thead th {\n",
       "        text-align: right;\n",
       "    }\n",
       "</style>\n",
       "<table border=\"1\" class=\"dataframe\">\n",
       "  <thead>\n",
       "    <tr style=\"text-align: right;\">\n",
       "      <th></th>\n",
       "      <th>Diabetes</th>\n",
       "      <th>HvyAlcoholConsump</th>\n",
       "      <th>Count</th>\n",
       "    </tr>\n",
       "  </thead>\n",
       "  <tbody>\n",
       "    <tr>\n",
       "      <th>0</th>\n",
       "      <td>0.0</td>\n",
       "      <td>0.0</td>\n",
       "      <td>180931</td>\n",
       "    </tr>\n",
       "    <tr>\n",
       "      <th>1</th>\n",
       "      <td>0.0</td>\n",
       "      <td>1.0</td>\n",
       "      <td>13252</td>\n",
       "    </tr>\n",
       "    <tr>\n",
       "      <th>2</th>\n",
       "      <td>1.0</td>\n",
       "      <td>0.0</td>\n",
       "      <td>37769</td>\n",
       "    </tr>\n",
       "    <tr>\n",
       "      <th>3</th>\n",
       "      <td>1.0</td>\n",
       "      <td>1.0</td>\n",
       "      <td>1197</td>\n",
       "    </tr>\n",
       "  </tbody>\n",
       "</table>\n",
       "</div>"
      ],
      "text/plain": [
       "   Diabetes  HvyAlcoholConsump   Count\n",
       "0       0.0                0.0  180931\n",
       "1       0.0                1.0   13252\n",
       "2       1.0                0.0   37769\n",
       "3       1.0                1.0    1197"
      ]
     },
     "execution_count": 87,
     "metadata": {},
     "output_type": "execute_result"
    }
   ],
   "source": [
    "df_HvyAlcoholConsump = df.groupby([\"Diabetes\", \"HvyAlcoholConsump\"]).size().reset_index(name=\"Count\")\n",
    "\n",
    "df_HvyAlcoholConsump"
   ]
  },
  {
   "cell_type": "markdown",
   "metadata": {},
   "source": [
    "##### Physical Activity"
   ]
  },
  {
   "cell_type": "code",
   "execution_count": 88,
   "metadata": {},
   "outputs": [
    {
     "data": {
      "text/plain": [
       "<matplotlib.legend.Legend at 0x7fdcfe3220d0>"
      ]
     },
     "execution_count": 88,
     "metadata": {},
     "output_type": "execute_result"
    },
    {
     "data": {
      "image/png": "[encoded data removed]",
      "text/plain": [
       "<Figure size 720x504 with 1 Axes>"
      ]
     },
     "metadata": {},
     "output_type": "display_data"
    }
   ],
   "source": [
    "# PhysActivity\n",
    "\n",
    "colors = [\"#008000\",\"#FF0000\"]\n",
    "\n",
    "ax = sns.countplot(data = df, x = 'Diabetes', hue='PhysActivity', \n",
    "palette = colors)\n",
    "\n",
    "ax.set(title = 'Individuals who have done physical activity grouped by diabetes status')\n",
    "ax.set_xticklabels(['Non-Diabetic', 'Diabetic'])\n",
    "ax.legend(['No Physical Activity', 'Physical Activity'])"
   ]
  },
  {
   "cell_type": "code",
   "execution_count": 89,
   "metadata": {},
   "outputs": [
    {
     "data": {
      "text/html": [
       "<div>\n",
       "<style scoped>\n",
       "    .dataframe tbody tr th:only-of-type {\n",
       "        vertical-align: middle;\n",
       "    }\n",
       "\n",
       "    .dataframe tbody tr th {\n",
       "        vertical-align: top;\n",
       "    }\n",
       "\n",
       "    .dataframe thead th {\n",
       "        text-align: right;\n",
       "    }\n",
       "</style>\n",
       "<table border=\"1\" class=\"dataframe\">\n",
       "  <thead>\n",
       "    <tr style=\"text-align: right;\">\n",
       "      <th></th>\n",
       "      <th>Diabetes</th>\n",
       "      <th>PhysActivity</th>\n",
       "      <th>Count</th>\n",
       "    </tr>\n",
       "  </thead>\n",
       "  <tbody>\n",
       "    <tr>\n",
       "      <th>0</th>\n",
       "      <td>0.0</td>\n",
       "      <td>0.0</td>\n",
       "      <td>37473</td>\n",
       "    </tr>\n",
       "    <tr>\n",
       "      <th>1</th>\n",
       "      <td>0.0</td>\n",
       "      <td>1.0</td>\n",
       "      <td>156710</td>\n",
       "    </tr>\n",
       "    <tr>\n",
       "      <th>2</th>\n",
       "      <td>1.0</td>\n",
       "      <td>0.0</td>\n",
       "      <td>13963</td>\n",
       "    </tr>\n",
       "    <tr>\n",
       "      <th>3</th>\n",
       "      <td>1.0</td>\n",
       "      <td>1.0</td>\n",
       "      <td>25003</td>\n",
       "    </tr>\n",
       "  </tbody>\n",
       "</table>\n",
       "</div>"
      ],
      "text/plain": [
       "   Diabetes  PhysActivity   Count\n",
       "0       0.0           0.0   37473\n",
       "1       0.0           1.0  156710\n",
       "2       1.0           0.0   13963\n",
       "3       1.0           1.0   25003"
      ]
     },
     "execution_count": 89,
     "metadata": {},
     "output_type": "execute_result"
    }
   ],
   "source": [
    "df_PhysActivity = df.groupby([\"Diabetes\", \"PhysActivity\"]).size().reset_index(name=\"Count\")\n",
    "\n",
    "df_PhysActivity"
   ]
  },
  {
   "cell_type": "markdown",
   "metadata": {},
   "source": [
    "##### Difficulty Walking"
   ]
  },
  {
   "cell_type": "code",
   "execution_count": 90,
   "metadata": {},
   "outputs": [
    {
     "data": {
      "text/plain": [
       "<matplotlib.legend.Legend at 0x7fdcfb7a1a90>"
      ]
     },
     "execution_count": 90,
     "metadata": {},
     "output_type": "execute_result"
    },
    {
     "data": {
      "image/png": "[encoded data removed]",
      "text/plain": [
       "<Figure size 720x504 with 1 Axes>"
      ]
     },
     "metadata": {},
     "output_type": "display_data"
    }
   ],
   "source": [
    "# PhysActivity\n",
    "\n",
    "colors = [\"#008000\",\"#FF0000\"]\n",
    "\n",
    "ax = sns.countplot(data = df, x = 'Diabetes', hue='DiffWalk', \n",
    "palette = colors)\n",
    "\n",
    "ax.set(title = 'Individuals who have Diffculty Walking grouped by diabetes status')\n",
    "ax.set_xticklabels(['Non-Diabetic', 'Diabetic'])\n",
    "ax.legend(['No Diffculty Walking', 'Diffculty Walking'])"
   ]
  },
  {
   "cell_type": "code",
   "execution_count": 91,
   "metadata": {},
   "outputs": [
    {
     "data": {
      "text/html": [
       "<div>\n",
       "<style scoped>\n",
       "    .dataframe tbody tr th:only-of-type {\n",
       "        vertical-align: middle;\n",
       "    }\n",
       "\n",
       "    .dataframe tbody tr th {\n",
       "        vertical-align: top;\n",
       "    }\n",
       "\n",
       "    .dataframe thead th {\n",
       "        text-align: right;\n",
       "    }\n",
       "</style>\n",
       "<table border=\"1\" class=\"dataframe\">\n",
       "  <thead>\n",
       "    <tr style=\"text-align: right;\">\n",
       "      <th></th>\n",
       "      <th>Diabetes</th>\n",
       "      <th>DiffWalk</th>\n",
       "      <th>Count</th>\n",
       "    </tr>\n",
       "  </thead>\n",
       "  <tbody>\n",
       "    <tr>\n",
       "      <th>0</th>\n",
       "      <td>0.0</td>\n",
       "      <td>0.0</td>\n",
       "      <td>170998</td>\n",
       "    </tr>\n",
       "    <tr>\n",
       "      <th>1</th>\n",
       "      <td>0.0</td>\n",
       "      <td>1.0</td>\n",
       "      <td>23185</td>\n",
       "    </tr>\n",
       "    <tr>\n",
       "      <th>2</th>\n",
       "      <td>1.0</td>\n",
       "      <td>0.0</td>\n",
       "      <td>26270</td>\n",
       "    </tr>\n",
       "    <tr>\n",
       "      <th>3</th>\n",
       "      <td>1.0</td>\n",
       "      <td>1.0</td>\n",
       "      <td>12696</td>\n",
       "    </tr>\n",
       "  </tbody>\n",
       "</table>\n",
       "</div>"
      ],
      "text/plain": [
       "   Diabetes  DiffWalk   Count\n",
       "0       0.0       0.0  170998\n",
       "1       0.0       1.0   23185\n",
       "2       1.0       0.0   26270\n",
       "3       1.0       1.0   12696"
      ]
     },
     "execution_count": 91,
     "metadata": {},
     "output_type": "execute_result"
    }
   ],
   "source": [
    "df_DiffWalk = df.groupby([\"Diabetes\", \"DiffWalk\"]).size().reset_index(name=\"Count\")\n",
    "\n",
    "df_DiffWalk"
   ]
  },
  {
   "cell_type": "code",
   "execution_count": null,
   "metadata": {},
   "outputs": [],
   "source": []
  }
 ],
 "metadata": {
  "kernelspec": {
   "display_name": "Python 3",
   "language": "python",
   "name": "python3"
  },
  "language_info": {
   "codemirror_mode": {
    "name": "ipython",
    "version": 3
   },
   "file_extension": ".py",
   "mimetype": "text/x-python",
   "name": "python",
   "nbconvert_exporter": "python",
   "pygments_lexer": "ipython3",
   "version": "3.8.5"
  }
 },
 "nbformat": 4,
 "nbformat_minor": 5
}
